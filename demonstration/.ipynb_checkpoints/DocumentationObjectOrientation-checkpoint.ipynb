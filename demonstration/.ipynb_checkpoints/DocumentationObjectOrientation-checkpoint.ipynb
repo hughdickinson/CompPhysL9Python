{
 "metadata": {
  "name": "",
  "signature": "sha256:ca67f4af0abf5fa5cc54e45e6384504e308acddc33156ca817e35589ca10d08d"
 },
 "nbformat": 3,
 "nbformat_minor": 0,
 "worksheets": []
}
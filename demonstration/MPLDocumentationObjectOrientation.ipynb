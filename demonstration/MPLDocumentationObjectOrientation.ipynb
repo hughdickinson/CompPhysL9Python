{
 "metadata": {
  "name": "",
  "signature": "sha256:6aba3ab8881c1066c6b540ba31222f0f14c4c8363ef27c726407088fa9f46bfd"
 },
 "nbformat": 3,
 "nbformat_minor": 0,
 "worksheets": [
  {
   "cells": [
    {
     "cell_type": "heading",
     "level": 1,
     "metadata": {},
     "source": [
      "More Matplotlib"
     ]
    },
    {
     "cell_type": "heading",
     "level": 2,
     "metadata": {},
     "source": [
      "Initial Setup (Recapitulation)"
     ]
    },
    {
     "cell_type": "markdown",
     "metadata": {},
     "source": [
      "Recall that the following \"magic\" command enables __inline__ display of the figures that are created using _Matplotlib_ within the _IPython Notebook_."
     ]
    },
    {
     "cell_type": "code",
     "collapsed": false,
     "input": [
      "%matplotlib inline"
     ],
     "language": "python",
     "metadata": {},
     "outputs": []
    },
    {
     "cell_type": "markdown",
     "metadata": {},
     "source": [
      "Import the `pyplot` module from the `matplotlib` package. Recall that this __does not__ import the __symbols__ from `pyplot`. Use of these symbols still requires explicit qualifigation e.g. `pyplot.plot(...)`."
     ]
    },
    {
     "cell_type": "code",
     "collapsed": false,
     "input": [
      "from matplotlib import pyplot"
     ],
     "language": "python",
     "metadata": {},
     "outputs": []
    },
    {
     "cell_type": "markdown",
     "metadata": {},
     "source": [
      "Import the `numpy` module to make generation of plottable data more straightforward."
     ]
    },
    {
     "cell_type": "code",
     "collapsed": false,
     "input": [
      "import numpy"
     ],
     "language": "python",
     "metadata": {},
     "outputs": []
    },
    {
     "cell_type": "markdown",
     "metadata": {},
     "source": [
      "Use the `numpy.linspace(...)` function to generate a `numpy.array` containing 100 $x$ values evenly distributed between 0 and 2$\\pi$. __Note__ the use of the `numpy.pi` constant."
     ]
    },
    {
     "cell_type": "code",
     "collapsed": false,
     "input": [
      "xValues = numpy.linspace(0, 2.0*numpy.pi, 100)"
     ],
     "language": "python",
     "metadata": {},
     "outputs": []
    },
    {
     "cell_type": "code",
     "collapsed": false,
     "input": [
      "help(numpy.linspace)"
     ],
     "language": "python",
     "metadata": {},
     "outputs": []
    },
    {
     "cell_type": "markdown",
     "metadata": {},
     "source": [
      "Generate 100 $y$ values corresonding to ${\\rm sinc}(x)$."
     ]
    },
    {
     "cell_type": "code",
     "collapsed": false,
     "input": [
      "yValues = numpy.sinc(xValues)"
     ],
     "language": "python",
     "metadata": {},
     "outputs": []
    },
    {
     "cell_type": "markdown",
     "metadata": {},
     "source": [
      "Generate a plot of ${\\rm sinc}(x)$ versus $x$. Recall that the `plot(...)` function returns a `list` of references (handles) to the `matplotlib.lines.Line2D` instances that represent the plotted curves."
     ]
    },
    {
     "cell_type": "code",
     "collapsed": false,
     "input": [
      "# define a function so that the same plot can be regenerated easily\n",
      "def makeExamplePlot() :\n",
      "    plottedCurves = pyplot.plot(xValues, yValues)\n",
      "    \n",
      "    # Add and format axis labels\n",
      "    xLabelText = pyplot.xlabel(r'$\\theta/\\pi$') \n",
      "    yLabelText = pyplot.ylabel(r'$\\sin(x)/x$')\n",
      "    xLabelText.set_fontsize(20)\n",
      "    yLabelText.set_fontsize(20)\n",
      "    return plottedCurves\n",
      "\n",
      "# Only one curve was plotted, so plottedCurves comprises a single element\n",
      "# of type matplotlib.lines.Line2D\n",
      "print \"Type returned by plot() =>\", type(makeExamplePlot()[0])"
     ],
     "language": "python",
     "metadata": {},
     "outputs": []
    },
    {
     "cell_type": "heading",
     "level": 2,
     "metadata": {},
     "source": [
      "Reference Documentation for `pyplot.plot(...)`"
     ]
    },
    {
     "cell_type": "markdown",
     "metadata": {},
     "source": [
      "__Remember__ that _extensive_ reference material for the `pyplot.plot(...)` function is available [online](http://matplotlib.org/api/pyplot_api.html#matplotlib.pyplot.plot) or using the Python `help(...)` function."
     ]
    },
    {
     "cell_type": "code",
     "collapsed": false,
     "input": [
      "help (pyplot.plot)"
     ],
     "language": "python",
     "metadata": {},
     "outputs": []
    },
    {
     "cell_type": "heading",
     "level": 2,
     "metadata": {},
     "source": [
      "Plot Axes"
     ]
    },
    {
     "cell_type": "markdown",
     "metadata": {},
     "source": [
      "Plot axis limits can be __independently__ customized using the `pyplot.xlim(...)` and `pyplot.ylim(...)` functions. It is possible to supply the minimum __and__ maximum axis values together or independently using named arguments."
     ]
    },
    {
     "cell_type": "code",
     "collapsed": false,
     "input": [
      "help (pyplot.xlim)"
     ],
     "language": "python",
     "metadata": {},
     "outputs": []
    },
    {
     "cell_type": "code",
     "collapsed": false,
     "input": [
      "# Regenerate the example curve\n",
      "plottedCurves = makeExamplePlot()\n",
      "\n",
      "# Explicitly alter the y-axis limits\n",
      "newYLimits = pyplot.ylim(0, 0.2)\n",
      "print \"New Y-axis limits =>\", newYLimits\n",
      "\n",
      "# Explicitly alter the x-axis limits\n",
      "newXLimits = pyplot.xlim(1, 4)\n",
      "print \"New X-axis limits =>\", newXLimits"
     ],
     "language": "python",
     "metadata": {},
     "outputs": []
    },
    {
     "cell_type": "markdown",
     "metadata": {},
     "source": [
      "The `pyplot.axis(...)` function allows the axis ranges of the most recently plotted entity to be __simultaneously__ customized. \n",
      "\n",
      "Desired axis limits __may__ be passed as a `list` comprising _four_ numeric elements that will be interpreted __in order__ as [$x_{\\min}, x_{\\max}, y_{\\min}, y_{\\max}$]. Alternatively, the `pyplot.axis(...)` function provides a similar interface to `xlim(...)` and `ylim(...)` functions, allowing the upper and lower limits of both axes to be independently set using named (or _keyword_) arguments. In adition, several built-in setups are provided that frame the plotted data with different levels of padding and handling of the x and y axis scaling.\n",
      "\n",
      "Reference material is available [online](http://matplotlib.org/api/pyplot_api.html#matplotlib.pyplot.axis) or __inline__ using the Python `help(...)` function."
     ]
    },
    {
     "cell_type": "code",
     "collapsed": false,
     "input": [
      "help(pyplot.axis)"
     ],
     "language": "python",
     "metadata": {},
     "outputs": []
    },
    {
     "cell_type": "markdown",
     "metadata": {},
     "source": [
      "To illustrate usage of a built-in axis setups, the `'tight'` preset defines axis limits that exactly contain the plotted points."
     ]
    },
    {
     "cell_type": "code",
     "collapsed": false,
     "input": [
      "# Regenerate the example curve\n",
      "plottedCurves = makeExamplePlot()\n",
      "# Change the axis limits to exactly contain the plotted points.\n",
      "newLimits = pyplot.axis('tight')\n",
      "print \"New axis limits =>\", newLimits"
     ],
     "language": "python",
     "metadata": {},
     "outputs": []
    },
    {
     "cell_type": "heading",
     "level": 2,
     "metadata": {},
     "source": [
      "Plot Legends"
     ]
    },
    {
     "cell_type": "markdown",
     "metadata": {},
     "source": [
      "When multiple datasets or functions are plotted on shared axes, a legend is typically provided to annotate and disambiguate the individual curves or data points. A legend can be added to the plotted figure using the `pyplot.legend(...)` function.\n",
      "\n",
      "A simple invocation of the `pyplot.legend(...)` function accepts a `tuple` containing references (or _handles_) to plotted curves (`matplotlib.lines.Line2D` instances) as its first argument and another `tuple` containing (optionally _raw_) `str` or `unicode` literals or instances that define textual labels to annotate each curve."
     ]
    },
    {
     "cell_type": "code",
     "collapsed": false,
     "input": [
      "# 1\n",
      "def makeExampleMultiPlots() :\n",
      "    # 2\n",
      "    xValues = numpy.linspace(0, 2.0*numpy.pi, 100)\n",
      "    # 3A\n",
      "    sinValues = numpy.sin(xValues)\n",
      "    # 3B\n",
      "    sinCubedValues = numpy.power(sinValues, 3)\n",
      "    # 3C\n",
      "    sincValues = numpy.sinc(xValues)\n",
      "    # 4\n",
      "    plottedCurves = pyplot.plot(xValues, sinValues, xValues, sincValues, xValues, sinCubedValues)\n",
      "    print \"plottedCurves => \", plottedCurves\n",
      "    # 5\n",
      "    return plottedCurves\n",
      "\n",
      "# 6\n",
      "sinValues, sincValues, sinCubedValues = makeExampleMultiPlots()\n",
      "\n",
      "# 7\n",
      "legend = pyplot.legend((sinValues, sincValues, sinCubedValues), (r'$\\sin(x)$', r'${\\rm sinc}(x)$', r'$\\sin^{3}(x)$'))"
     ],
     "language": "python",
     "metadata": {},
     "outputs": []
    },
    {
     "cell_type": "heading",
     "level": 3,
     "metadata": {},
     "source": [
      "Code Analysis"
     ]
    },
    {
     "cell_type": "markdown",
     "metadata": {},
     "source": [
      "1. Define a __function__ with the identifier `makeExampleMultiPlots` to enable straightforward regeneration of the multi-curve figure.\n",
      "2. Use the `numpy.linspace(...)` function to generate a `numpy.array` of $x$-values containing 100 `float`-type elements with values evenly distributed between 0 and 2$\\pi$.\n",
      "3. Define three `numpy.array`s specifying the $y$-values for three curves.\n",
      "    1. Use the `numpy.sin(...)` function to generate a `numpy.array` containing the sines of the $x$-values.   \n",
      "    2. Use the `numpy.power(...)` function to generate a `numpy.array` containing the __cubes__ of the sines of the $x$-values.\n",
      "    3. Use the `numpy.power(...)` function to generate a `numpy.array` containing the values of the __sinc__ function ($\\sin(x)/x$) evaluated at each of the $x$-values. \n",
      "4. Use a __novel invocation signature__ of the `pyplot.plot(...)` function that draws multiple curves. Using this signature the first 2*n* function arguments should be array-type values (e.g. `numpy.array`s) that will interpretted as the $x$ and $y$ values of *n* curves to be drawn. \n",
      "\n",
      "    The invocation used in the example supplies 6 arguments (3 pairs of $x$ and $y$ value arrays), so three curves will be drawn.\n",
      "    \n",
      "    __Recall__ that the `pyplot.plot(...)` function returns a `list` of `matplotlib.lines.Line2D` instances that correspond to the plotted curves. This list is assigned to a __function-local__ variable with the identifier `plottedCurves`.\n",
      "5. The list that is referred to by `plottedCurves` is returned as the function result.\n",
      "6. Invoke the `makeExampleMultiPlots` function to generate the multi-curve figure. Note the syntax that allows the returned `list` of `matplotlib.lines.Line2D` instances to be \"__unwrapped__\". __*Unwrapping*__ allows each element of the `list` to be assigned to separate identifiers - `sinValues`, `sincValues` and `sinCubedValues`.\n",
      "7. Invoke the `pyplot.legend(...)` function. The __first argument__ is a tuple containing `matplotlib.lines.Line2D` references that specify the curves for which legend entries should be generated. The __second argument__  is a tuple containing three _raw_ `str` literals that specify (in order) LaTeX-formatted labels for each of the curves specified by the first argument.\n",
      "\n",
      "More information about the `pyplot.legend(...)` function can be found [online](http://matplotlib.org/1.4.3/users/legend_guide.html#legend-guide) or _inline_ using the Python `help(...)` function."
     ]
    },
    {
     "cell_type": "code",
     "collapsed": false,
     "input": [
      "help(pyplot.legend)"
     ],
     "language": "python",
     "metadata": {},
     "outputs": []
    },
    {
     "cell_type": "heading",
     "level": 2,
     "metadata": {},
     "source": [
      "Multi-panel figures"
     ]
    },
    {
     "cell_type": "markdown",
     "metadata": {},
     "source": [
      "As well as drawing multiple curves on a __single__ pair of axes (Recall that _Matplotlib_ is primarily designed for 2-dimensional plotting), the `matplotlib.pyplot` module also provides the `subplot(...)` function, which allows multiple __separate__ \"_sub-plots_\" with independent axes to be unified within a single figure."
     ]
    },
    {
     "cell_type": "code",
     "collapsed": false,
     "input": [
      "help(pyplot.subplot)"
     ],
     "language": "python",
     "metadata": {},
     "outputs": []
    },
    {
     "cell_type": "markdown",
     "metadata": {},
     "source": [
      "The MATLAB-like interface that is provided by `pyplot` defines a concept of the \"_current axes_\". Any drawing commands (`legend(...)`, `setp(...)`, etc.) will refer to the curves (or other entities, like legends) that are drawn on those axes. \n",
      "\n",
      "The `subplot(...)` has __two__ effects.\n",
      "\n",
      "1. __If required__, a new subplot (independent axis pair) is defined. The new subplot is positioned on a rectilinear grid pattern with properties (i.e. row count and column count) that are specified using the arguments of the subplot function.\n",
      "2. The internal state of the `pyplot` module is altered such that subsequent drawing commands will affect the specified subplot i.e. the \"_current axes_\" concept is redefined. \n",
      "\n",
      "The `subplot(...)` function provides several signatures, but the __primary__ signature requires three arguments, specifying (in order) \n",
      "\n",
      "1. The number of __rows__ defining the _rectilinear grid_ on which the the subplot will be positioned.\n",
      "2. The number of __columns__ defining the _rectilinear grid_ on which the the subplot will be positioned.\n",
      "3. An integer that defines the node of the _rectilinear grid_ at which the subplot will be positioned. Nodes are counted from the top left of the plot and increase from left to right along each __row__ before moving to the next. __For example__, a grid with 3 rows and 4 columns implies node position labels with the illustrated configuration.\n",
      "\n",
      "$$\\left[\\begin{array}{cccc}\n",
      "1 & 2 & 3 & 4 \\\\\n",
      "5 & 6 & 7 & 8\\\\\n",
      "9 & 10 & 11 & 12\n",
      "\\end{array}\\right]$$"
     ]
    },
    {
     "cell_type": "code",
     "collapsed": false,
     "input": [
      "# 1\n",
      "pyplot.subplot(2,2,1)\n",
      "# 2\n",
      "sinPlot, sincPlot, sinCubedPlot = makeExampleMultiPlots()\n",
      "# 3\n",
      "pyplot.subplot(2,2,2)\n",
      "# 4\n",
      "plottedCurve = pyplot.plot(sinPlot.get_xdata(), sinPlot.get_ydata(), color=sinPlot.get_c())\n",
      "# 5\n",
      "pyplot.subplot(2,2,3)\n",
      "plottedCurve = pyplot.plot(sincPlot.get_xdata(), sincPlot.get_ydata(), color=sincPlot.get_c())\n",
      "\n",
      "pyplot.subplot(2,2,4)\n",
      "plottedCurve = pyplot.plot(sinCubedPlot.get_xdata(), sinCubedPlot.get_ydata(), color=sinCubedPlot.get_c())"
     ],
     "language": "python",
     "metadata": {},
     "outputs": []
    },
    {
     "cell_type": "heading",
     "level": 3,
     "metadata": {},
     "source": [
      "Code Analysis"
     ]
    },
    {
     "cell_type": "markdown",
     "metadata": {},
     "source": [
      "1. Invoke the `subplot(...)` function for the first time. The first two arguments of the invocation implicitly define a rectilinear grid with two rows and two columns, while the final argument selects the __first__ grid node which occupies the __upper-left__ position of the grid.\n",
      "2. Call the previously defined `makeExampleMultiPlots()` function that will generate and draw three curves on the \"_current axes_\". `makeExampleMultiPlots()` returns a `list` of three `matplotlib.lines.Line2D` instances. This `list` is unwrapped its elements are assigned to individual identifiers.\n",
      "3. The second invocation of `subplot(...)` defines and selects a new axis set positioned at the __second__ node of the existing  rectilinear grid. This corresponds to the __upper-right__ position.\n",
      "4. The `pyplot.plot(...)` method is invoked to draw the first of the curves that was returned by the invocation of `makeExampleMultiPlots()`. The arguments supplied to `pyplot.plot(...)` are obtained using various methods provided by the `matplotlib.lines.Line2D` class.\n",
      "    1. The $x$ and $y$ data arrays can be extracted using the `get_xdata()` and `get_ydata()` methods, respectively.\n",
      "    2. The colour that is assigned to the curve can be extracted using the `get_c()` method and can be supplid as a value of the _keyword argument_ `color`.\n",
      "5. The previous step is repeated for the remaining two curves, substituting the final argument of the `subplot(...)` function to draw them in the __bottom-left__ and __bottom-right__ positions."
     ]
    },
    {
     "cell_type": "heading",
     "level": 1,
     "metadata": {},
     "source": [
      "Python File Input and Output"
     ]
    },
    {
     "cell_type": "heading",
     "level": 2,
     "metadata": {},
     "source": [
      "Opening Files"
     ]
    },
    {
     "cell_type": "markdown",
     "metadata": {},
     "source": [
      "To open a file using _Python_ the built-in `open(...)` function is provided. The `open(...)` function returns an instance of the `file` class that provides methods for reading and writing as well as a `close()` function, which safely finalizes any pending input or output operations and frees any system resources that were acquired when the file was opened, and __saves__ the file. "
     ]
    },
    {
     "cell_type": "code",
     "collapsed": false,
     "input": [
      "help(open)"
     ],
     "language": "python",
     "metadata": {},
     "outputs": []
    },
    {
     "cell_type": "markdown",
     "metadata": {},
     "source": [
      "The simplest invocation of `open(...)` requires a single argument - a `str`-type value specifying the __filesystem path__ of the file to be opened. More sophisticated usage enables an __access mode__ to be specified using a `str`-type value supplied as the second argument. Commonly specified access modes include\n",
      "\n",
      "* `'r'` opens a file in __read-only__ mode.\n",
      "* `'w'` opens a file in __write-only__ mode. Any previous content will be __erased__.\n",
      "* `'r+'` opens a file in __read-write__ mode.\n",
      "* `'a'` opens a file in __append__ mode. Any previous content will be retained and new content will be appended to the end of the file.\n",
      "\n",
      "More information about the possible access modes is available from the [online documentation](https://docs.python.org/2/library/functions.html#open) for the `open(...)` function or (as indicated by the output of the `help(...)` function!) by examining the contents of `file.__doc__`."
     ]
    },
    {
     "cell_type": "code",
     "collapsed": false,
     "input": [
      "print file.__doc__"
     ],
     "language": "python",
     "metadata": {},
     "outputs": []
    },
    {
     "cell_type": "heading",
     "level": 2,
     "metadata": {},
     "source": [
      "Writing to Files"
     ]
    },
    {
     "cell_type": "heading",
     "level": 3,
     "metadata": {},
     "source": [
      "Security"
     ]
    },
    {
     "cell_type": "markdown",
     "metadata": {},
     "source": [
      "In some situations, the _IPython Notebook_ security policy prevents operations that modify the system state, including updates to the filesystem. If file output operations fail, it may be necessary to explicitly specify that the current notebook is \"_trusted_\". To do this simply choose _File_\u2192_Trust Notebook_ from the _IPython Notebook_ interface."
     ]
    },
    {
     "cell_type": "heading",
     "level": 3,
     "metadata": {},
     "source": [
      "Writing Strings to Files."
     ]
    },
    {
     "cell_type": "markdown",
     "metadata": {},
     "source": [
      "The `write(...)` method provided by the `file` class enables arbitrary strings of characters to be written (or appended, depending on the file __access mode__) to a file. \n",
      "\n",
      "The method __requires__ a single `str`-type argument, which specifies the characters to be written. The `write(...)` method does not modify its argument in any way before writing to the file. In particular, \"_invisible characters_\" such as newlines  must be explicitly specified if they are required."
     ]
    },
    {
     "cell_type": "code",
     "collapsed": false,
     "input": [
      "help(file.write)"
     ],
     "language": "python",
     "metadata": {},
     "outputs": []
    },
    {
     "cell_type": "code",
     "collapsed": false,
     "input": [
      "# Open a file in the current directory with write access - if the file \n",
      "# already exists its contents will be overwritten. \n",
      "# The open(...) function returns an instance of the file class, which \n",
      "# is assigned the identifier \"fileForWriting\"\n",
      "fileForWriting = open('platonicWisdom', 'w')\n",
      "\n",
      "# Invoke the write(...) method to insert a string of characters into\n",
      "# the file. \n",
      "# A literal string is provided as the single required argument.\n",
      "# Note that an explicit newline ('\\n') character must be included.\n",
      "fileForWriting.write('\"The beginning is the most important part of the work.\"\\n')\n",
      "\n",
      "# Invoke the close() method to ensure that all output operations are completed\n",
      "# and acquired system resources are released.\n",
      "fileForWriting.close()"
     ],
     "language": "python",
     "metadata": {},
     "outputs": []
    },
    {
     "cell_type": "heading",
     "level": 3,
     "metadata": {},
     "source": [
      "Appending Strings to Files "
     ]
    },
    {
     "cell_type": "markdown",
     "metadata": {},
     "source": [
      "If the string `'a'` is provided as second argument of `open(...)`, then invoking the `write(...)` method on the returned `file` instance will __append__ a string of characters to any __preexisting__ data the opened file contains."
     ]
    },
    {
     "cell_type": "code",
     "collapsed": false,
     "input": [
      "# Open the previously created \"platonicWisdom\" file with append access. \n",
      "# The file already exists and its contents will be appended to. \n",
      "# The open(...) function returns an instance of the file class, which \n",
      "# is assigned the identifier \"fileForAppending\"\n",
      "fileForAppending = open('platonicWisdom', 'a')\n",
      "\n",
      "# Create a str-type variable by assign a str-type literal.\n",
      "# Note that an explicit newline ('\\n') character is included.\n",
      "anotherPlatoQuote = '\"Wise men speak because they have something to say; Fools because they have to say something.\"\\n'\n",
      "\n",
      "# Invoke the write(...) method to insert a string of characters into \n",
      "# the file. \n",
      "# A str-type variable is provided as the single required argument.\n",
      "fileForAppending.write(anotherPlatoQuote)\n",
      "\n",
      "# Invoke the close() method to ensure that all output operations are completed\n",
      "# and acquired system resources are released.\n",
      "fileForAppending.close()"
     ],
     "language": "python",
     "metadata": {},
     "outputs": []
    },
    {
     "cell_type": "heading",
     "level": 3,
     "metadata": {},
     "source": [
      "Writing *Multiple Lines* to files."
     ]
    },
    {
     "cell_type": "markdown",
     "metadata": {},
     "source": [
      "The `file` class provides the `writelines(...)` method to write (or append, depending on the target file's access mode) multiple strings of characters to a file. \n",
      "\n",
      "The method __requires__ a single argument, which should be a _Python_ sequence-type containing __only__ `str`-type elements.\n",
      "\n",
      "The operation of `writelines(...)` is equivalent to iterating over the elements of the method argument and repeatedly invoking the `write(...)` method for each one. This means that (despite the slightly misleading method identifier) newlines must __still__ be explicitly specified if they are required."
     ]
    },
    {
     "cell_type": "code",
     "collapsed": false,
     "input": [
      "help(file.writelines)"
     ],
     "language": "python",
     "metadata": {},
     "outputs": []
    },
    {
     "cell_type": "code",
     "collapsed": false,
     "input": [
      "# Assign a literal list containing a single str-type element to the \n",
      "# identifier \"theBestPlatoQuotes\"\n",
      "theBestPlatoQuotes = ['\"I have hardly ever known a mathematician who was capable of reasoning.\"\\n']\n",
      "\n",
      "# Use the append(...) method provided by list to append two more \n",
      "# self-evidently wise Plato quotes.\n",
      "theBestPlatoQuotes.append('\"Honesty is for the most part less profitable than dishonesty.\"\\n')\n",
      "theBestPlatoQuotes.append('\"He was a wise man who invented beer.\"\\n')\n",
      "\n",
      "# Open the previously created \"platonicWisdom\" file with append \n",
      "# access.\n",
      "fileForAppending = open('platonicWisdom', 'a')\n",
      "\n",
      "# Invoke the writelines(...) method to insert multiple strings of characters \n",
      "# into the file. \n",
      "# A list of str-type variables is provided as the single required argument.\n",
      "fileForAppending.writelines(theBestPlatoQuotes)\n",
      "\n",
      "# Invoke the close() method to ensure that all output operations are completed\n",
      "# and acquired system resources are released.\n",
      "fileForAppending.close()"
     ],
     "language": "python",
     "metadata": {},
     "outputs": []
    },
    {
     "cell_type": "heading",
     "level": 2,
     "metadata": {},
     "source": [
      "Reading from Files"
     ]
    },
    {
     "cell_type": "heading",
     "level": 3,
     "metadata": {},
     "source": [
      "Reading Entire Files"
     ]
    },
    {
     "cell_type": "markdown",
     "metadata": {},
     "source": [
      "An arbitrary number of bytes can be extracted from a readable file using the `read(...)` method provided by the `file` class. When invoked with no arguments, the `read(...)` method extracts the __entire__ file contents.\n",
      "\n",
      "The `read(...)` method __returns__ a `str`-type instance containing the extracted characters."
     ]
    },
    {
     "cell_type": "code",
     "collapsed": false,
     "input": [
      "help(file.read)"
     ],
     "language": "python",
     "metadata": {},
     "outputs": []
    },
    {
     "cell_type": "heading",
     "level": 3,
     "metadata": {},
     "source": [
      "Reading _Unformatted_ Blocks of Data"
     ]
    },
    {
     "cell_type": "markdown",
     "metadata": {},
     "source": [
      "The `read(...)` method also supports an optional `int`-type argument, that can be used to specify the number of bytes that should be extracted. \n",
      "\n",
      "In addition to providing a straightforward way to extract the entire contents of a file, the `read(...)` method also provides flexible, __unformatted__ data extraction from __binary__ and __textual__ files. Moreover, many common textual encoding conventions like _UTF-8_ or _ASCII_ use a single byte to represent a single character. For data that are encoded in this manner, supplying an argument to `read(...)` enables a __specific number of characters__ to be extracted from a textual file. \n",
      "\n",
      "The `file` class provides a `seek(...)` method that __requires__ a single `int`-type argument that specifies an offset (number of __bytes__) for the start position used by any subsequent invocations of `read(...)`. The interpretation of the supplied offset can be specified using an __optional__, second `int`-type argument. \n",
      "\n",
      "* If a (default) value of `0` is provided then the offset is applied relative to the __beginning__ of the file.    \n",
      "* If a value of `1` is provided then the offset is applied relative to the __current position__ in the file i.e. the __byte__ immediately after that extracted by the previous read-type operation on the file.\n",
      "* If a value of `2` is provided then the offset is applied relative to the __end__ the file. In this case the most supplied offest should probably be negative."
     ]
    },
    {
     "cell_type": "code",
     "collapsed": false,
     "input": [
      "help(file.seek)"
     ],
     "language": "python",
     "metadata": {},
     "outputs": []
    },
    {
     "cell_type": "code",
     "collapsed": false,
     "input": [
      "# Open the previously created \"platonicWisdom\" file with read access. \n",
      "# Any attempts to write to the file will fail and raise an IOError instance. \n",
      "# The open(...) function returns an instance of the file class, which \n",
      "# is assigned the identifier \"fileForAppending\"\n",
      "fileForReading = open('platonicWisdom', 'r')\n",
      "\n",
      "try :\n",
      "    # Attempt to perform a write operation on a file opened in read-only mode\n",
      "    fileForReading.write(\"The only true wisdom is in knowing you know nothing.\")\n",
      "except IOError as failedWrite:\n",
      "    print \"Write attempt:\\n\",failedWrite.message,\"\\n\"\n",
      "    \n",
      "# Invoke the read(...) method with no arguments. This returns a string\n",
      "# containing the entire file contents.\n",
      "print \"Entire file:\\n\", fileForReading.read()\n",
      "\n",
      "# Invoke the seek(...) method with a single argument such that subsequent\n",
      "# invocations of read(...) will begin at the 27th byte of the file.\n",
      "fileForReading.seek(27)\n",
      "\n",
      "# Invoke the read(...) method supplying an int-type argument to\n",
      "# read a sequence of 9 bytes i.e. bytes 27-36, from the file.\n",
      "# Print the returned string containing the extracted sequence.\n",
      "print \"Important part:\\n\", fileForReading.read(9), \"\\n\"\n",
      "\n",
      "# Invoke the seek(...) method with two arguments such that subsequent\n",
      "# invocations of read(...) will begin 7 bytes before the end of the file. \n",
      "fileForReading.seek(-7, 2)\n",
      "\n",
      "# Read and print sequence of 4 bytes from the file\n",
      "print \"Most important part:\\n\", fileForReading.read(4), \"\\n\"\n",
      "\n",
      "# Invoke the close() method to ensure that acquired system \n",
      "# resources are released.\n",
      "fileForReading.close()"
     ],
     "language": "python",
     "metadata": {},
     "outputs": []
    },
    {
     "cell_type": "heading",
     "level": 3,
     "metadata": {},
     "source": [
      "Reading Files Line-by-line"
     ]
    },
    {
     "cell_type": "markdown",
     "metadata": {},
     "source": [
      "The `file` class also provides methods that enable __formatted__ data extraction. The `readline()` method, which extracts a __single line__ from a textual file and returns it as a `str`-type object."
     ]
    },
    {
     "cell_type": "code",
     "collapsed": false,
     "input": [
      "help(file.readline)"
     ],
     "language": "python",
     "metadata": {},
     "outputs": []
    },
    {
     "cell_type": "code",
     "collapsed": false,
     "input": [
      "# Open the previously created \"platonicWisdom\" file with read access. \n",
      "fileForReading = open('platonicWisdom', 'r')\n",
      "\n",
      "# Extract a single line from the file. The extracted line is returned\n",
      "# as a str-type object.\n",
      "firstLine = fileForReading.readline()\n",
      "\n",
      "print \"First Line:\\n\", firstLine\n",
      "\n",
      "# Subsequent calls to readline() will start from the current position\n",
      "# in the file, so to extract the second line, simply invoke readline()\n",
      "# again.\n",
      "secondLine = fileForReading.readline()\n",
      "\n",
      "print \"Second Line:\\n\", secondLine\n",
      "\n",
      "# Invoke the close() method to ensure that acquired system \n",
      "# resources are released.\n",
      "fileForReading.close()"
     ],
     "language": "python",
     "metadata": {},
     "outputs": []
    },
    {
     "cell_type": "markdown",
     "metadata": {},
     "source": [
      "Multiple lines can be extracted from a textual file using the `readlines()` method that is provided by the `file` class. The extracted text is returned as a `list` of `str`-type objects, with each element corresponding to a single extracted line."
     ]
    },
    {
     "cell_type": "code",
     "collapsed": false,
     "input": [
      "help(file.readlines)"
     ],
     "language": "python",
     "metadata": {},
     "outputs": []
    },
    {
     "cell_type": "code",
     "collapsed": false,
     "input": [
      "# Open the previously created \"platonicWisdom\" file with read access. \n",
      "fileForReading = open('platonicWisdom', 'r')\n",
      "\n",
      "# Invoke the readlines() method to extract the file contents as\n",
      "# a list of str-type instances.\n",
      "allTheQuotes = fileForReading.readlines()\n",
      "\n",
      "print \"List of Quotes:\\n\", allTheQuotes, \"\\n\"\n",
      "\n",
      "# Use the list indexing syntax to extract a subset of the extracted\n",
      "# lines. \n",
      "# Note that the built-in len(...) function returns an int-type\n",
      "# value corresponding to the number of elements comprising the required\n",
      "# sequence-type argument.\n",
      "selectedQuotes = allTheQuotes[len(allTheQuotes) - 3:len(allTheQuotes)]\n",
      "\n",
      "print \"Selected Quotes:\"\n",
      "for quote in selectedQuotes :\n",
      "    print u\"\\u03DF\", quote\n",
      "    \n",
      "# Invoke the close() method to ensure that acquired system \n",
      "# resources are released.\n",
      "fileForReading.close()"
     ],
     "language": "python",
     "metadata": {},
     "outputs": []
    },
    {
     "cell_type": "markdown",
     "metadata": {},
     "source": [
      "The `file` class also enables the __individual lines__ of a textual file to be __iterated over__ using a `for`-loop. By performing behind-the-scenes buffering operations, this interface can be _more efficient_ than using the `readlines(...)` method. \n",
      "\n",
      "The iterable interface provided by the `file` class also enables `file` instances to be used in __list-comprehensions__.  "
     ]
    },
    {
     "cell_type": "code",
     "collapsed": false,
     "input": [
      "# Open the previously created \"platonicWisdom\" file with read access. \n",
      "platonicQuotes = open('platonicWisdom', 'r')\n",
      "\n",
      "print \"Platonic Quotes:\"\n",
      "# Use the iterable interface provided by the file class to loop over\n",
      "# the individual lines in the file and print each one.\n",
      "for platonicQuote in platonicQuotes :\n",
      "    print platonicQuote\n",
      "\n",
      "# Invoke the seek(...) method with a single argument specifying a\n",
      "# zero-byte offset to return to the beginning of the file. \n",
      "platonicQuotes.seek(0)\n",
      "\n",
      "# Use the list-comprehension syntax to generate a new list containing\n",
      "# the quotes prepended with a bullet.\n",
      "bulletedQuotes = [(u\"\\u03DF \" + quote) for quote in platonicQuotes]\n",
      "\n",
      "print \"Bulleted Platonic Quotes:\"\n",
      "# Loop over the generated list of bulletes quotes and print each one\n",
      "for bulletedQuote in bulletedQuotes :\n",
      "    print bulletedQuote\n",
      "\n",
      "# Invoke the close() method to ensure that acquired system \n",
      "# resources are released. \n",
      "platonicQuotes.close()"
     ],
     "language": "python",
     "metadata": {},
     "outputs": []
    },
    {
     "cell_type": "heading",
     "level": 1,
     "metadata": {},
     "source": [
      "Multiline Comments and Automatic Documentation"
     ]
    },
    {
     "cell_type": "heading",
     "level": 2,
     "metadata": {},
     "source": [
      "Multiline Comments"
     ]
    },
    {
     "cell_type": "markdown",
     "metadata": {},
     "source": [
      "Although the familiar single-line comments that begin with a `#` token are useful for annotating short snippets of code, it can become cumbersome if more detailed multi-line comments are required.\n",
      "\n",
      "Fortunately, Python also provides syntax for delimiting multi-line comments. Multi-line comment blocks begin and end with __matching pairs__ of series of __three adjacent quote characters__ i.e. `'''` __or__ `\"\"\"`."
     ]
    },
    {
     "cell_type": "code",
     "collapsed": false,
     "input": [
      "'''This\n",
      "Comment\n",
      "Spans\n",
      "Multiple\n",
      "Lines'''\n",
      "\n",
      "\"\"\"So \n",
      "Does\n",
      "This\n",
      "One\"\"\"\n",
      "\n",
      "# This is a single line comment\n",
      "\n",
      "print \"No comment!\""
     ],
     "language": "python",
     "metadata": {},
     "outputs": []
    },
    {
     "cell_type": "heading",
     "level": 2,
     "metadata": {},
     "source": [
      "Automatic documentation"
     ]
    },
    {
     "cell_type": "heading",
     "level": 3,
     "metadata": {},
     "source": [
      "Inline documentation and the `help(...)` function"
     ]
    },
    {
     "cell_type": "markdown",
     "metadata": {},
     "source": [
      "Python's `help(...)` function is an invaluable aid when learning to use a new module or language feature, but it is not magic! It is the __module programmer's responsibility__ to provide information that is output by `help(...)` and associate it with a particular symbol. The *Python* language provides the `pydoc` module to achieve this. See the [online reference](https://docs.python.org/2/library/pydoc.html) for `pydoc` for more information."
     ]
    },
    {
     "cell_type": "heading",
     "level": 4,
     "metadata": {},
     "source": [
      "Providing help text for functions"
     ]
    },
    {
     "cell_type": "markdown",
     "metadata": {},
     "source": [
      "Help text can be associated with Python __functions__ by providing a multiline comment block __immediately after__ the function definition clause."
     ]
    },
    {
     "cell_type": "code",
     "collapsed": false,
     "input": [
      "def testDocs(stringArgument) :\n",
      "    '''The testDocs function is designed to test the automatic documentation facilities provided \n",
      "    by the pydoc module. It also prints a string echoing its own invocation.\n",
      "    \n",
      "    ARGUMENTS:\n",
      "    ==========\n",
      "    The function requires a single argument that should be of type str.'''\n",
      "    # Now begin the function logic...\n",
      "    print \"I was invoked using testDocs(\" + stringArgument + \").\\n\"\n"
     ],
     "language": "python",
     "metadata": {},
     "outputs": []
    },
    {
     "cell_type": "code",
     "collapsed": false,
     "input": [
      "# Verify that the function still behaves as expected\n",
      "testDocs(\"test\")\n",
      "# Print the function help\n",
      "help(testDocs)"
     ],
     "language": "python",
     "metadata": {},
     "outputs": []
    },
    {
     "cell_type": "heading",
     "level": 4,
     "metadata": {},
     "source": [
      "Composite Python entities"
     ]
    },
    {
     "cell_type": "markdown",
     "metadata": {},
     "source": [
      "Help text for composite Python entities like __*classes*__ can also defined by providing a multiline comment block __immediately after__ opening clause. An alternative approach, which also applies to __*modules*__ involves definition of a `str`-type member datum (also called an __attribute__) of the entity with the special identifier \"`__doc__`\"."
     ]
    },
    {
     "cell_type": "heading",
     "level": 1,
     "metadata": {},
     "source": [
      "Object Oriented Programming in Python"
     ]
    },
    {
     "cell_type": "heading",
     "level": 2,
     "metadata": {},
     "source": [
      "Class Definitions"
     ]
    },
    {
     "cell_type": "markdown",
     "metadata": {},
     "source": [
      "A simple class definition in Python begins with a clause comprising the __keyword__ `class`, an __identifier__ that names the class and a __colon character__ \"`:`\". The opening clause is immediately followed by an indented code block the contains declarations and deninitions of all the class member data and methods (often described as __attributes__ by the Python Online Documentation). "
     ]
    },
    {
     "cell_type": "heading",
     "level": 3,
     "metadata": {},
     "source": [
      "Member data definitions"
     ]
    },
    {
     "cell_type": "markdown",
     "metadata": {},
     "source": [
      "Class member data definitions use identical syntax to simple Python variable declarations."
     ]
    },
    {
     "cell_type": "heading",
     "level": 3,
     "metadata": {},
     "source": [
      "Method definitions"
     ]
    },
    {
     "cell_type": "markdown",
     "metadata": {},
     "source": [
      "Class methods are defined using an identical syntax to ordinary Python functions with one caveat. When a __class method__ is invoked, a reference to the class instance upon which it is invoked (analogous to the `this` pointer in C++) is __automatically__ passed as the __first argument__. The caller __does not__ need to explicitly provide this argument. Nonetheless, the method definition __must__ be designed to accept the reference as its first argument. __By convention__, the identifier `self` is used for this argument. \n",
      "\n",
      "Python __does not__ support method or function __overloading__.\n",
      "\n",
      "__Constructors__ for Python classes are provided by defining a __class method__ with the special identifier `__init__`. "
     ]
    },
    {
     "cell_type": "code",
     "collapsed": false,
     "input": [
      "\"\"\"\n",
      "Define a class with the identifier Snake that models a generic snake.\n",
      "Snake does not derive from any base classes.\n",
      "\n",
      "Class definition begins with an opening clause comprising the keyword class, an \n",
      "arbitrary identifier and a colon character.\n",
      "\"\"\"\n",
      "class Snake :\n",
      "    # Begin indented code block to encapsulate the body of the class definition\n",
      "    \"\"\"\n",
      "    The Snake class models a generic snake.\n",
      "    It provides attributes specifying the snake's length and whether its bite is venomous.\n",
      "    \"\"\"\n",
      "    \n",
      "    # MEMBER DATA DEFINITIONS\n",
      "    \n",
      "    # Length of the python in metres \n",
      "    length = 1.\n",
      "    \n",
      "    # Specifies whether the python's bite is venomous - True if it is, False otherwise\n",
      "    venomous = False\n",
      "    \n",
      "    # METHOD DEFINITIONS\n",
      "    \n",
      "    \"\"\"\n",
      "    A reference to the class instance upon which the method is invoked will\n",
      "    automatically be passed as the first method argument. By default, the identifier\n",
      "    \"self\" is associated with this automatically passed reference.\n",
      "    \"\"\"\n",
      "    def __init__(self, length, venomous) :\n",
      "        \"\"\"Constructor of the Snake class.\"\"\"\n",
      "        # Initialize member data\n",
      "        self.length = length\n",
      "        self.venomous = venomous\n",
      "    \n",
      "    def getLengthInMetres(self) :\n",
      "        \"\"\"Returns the length of the Python in metres.\"\"\"\n",
      "        return self.length\n",
      "    \n",
      "    def isVenomous(self) :\n",
      "        \"\"\"Returns True if the python has a venomous bite and False otherwise\"\"\"\n",
      "        return self.venomous\n",
      "    \n",
      "    def description(self) :\n",
      "        \"\"\"Prints a textual description of the python.\"\"\"\n",
      "        print \"I am a \" + str(self.getLengthInMetres()) + \"m long \" + str(\"venomous \" if self.isVenomous() else \"\") + \"snake.\"\n",
      "    \n",
      "# Test the functionality of the help(...) function\n",
      "help(Snake)"
     ],
     "language": "python",
     "metadata": {},
     "outputs": []
    },
    {
     "cell_type": "heading",
     "level": 2,
     "metadata": {},
     "source": [
      "Instantiation"
     ]
    },
    {
     "cell_type": "markdown",
     "metadata": {},
     "source": [
      "Python classes are instantiated using the __*function call syntax*__. This syntax consists of the class identifier, followed by a parenthesized list of class constructor arguments. The instantiated object can then be assigned to a variable allowing its attributes to be accessed."
     ]
    },
    {
     "cell_type": "code",
     "collapsed": false,
     "input": [
      "\"\"\"\n",
      "Instantiate a Snake object - Note that explicit provision of\n",
      "the \"self\" argument of the constructor is not required.\n",
      "\"\"\"\n",
      "snake = Snake(2.0, False)\n",
      "# Invoke the description method on the simplePython instance\n",
      "snake.description()"
     ],
     "language": "python",
     "metadata": {},
     "outputs": []
    },
    {
     "cell_type": "heading",
     "level": 2,
     "metadata": {},
     "source": [
      "Inheritence"
     ]
    },
    {
     "cell_type": "markdown",
     "metadata": {},
     "source": [
      "To define a class that derives from __one or more__ parent classes, the class identifier that forms part of the opening clause of the definition should be __immediately__ followed by a parenthesized, comma-separated list of the identifiers of the parent classes.\n",
      "\n",
      "Parent class methods can be __overridden__ by defining a method with an __identical identifier__ within the derived class.\n",
      "\n",
      "The `__init__()` method of a derived class must explicitly call the `__init__()` methods of all its parent classes. The call to each of the parent class `__init__()` methods should be explicitly qualified using the parent class type-identifiers.\n",
      "\n",
      "__NOTE:__ In this context, the `__init__()` methods of the parent class __behave like normal functions__. This means that a reference to the current class instance __will not be automatically passed__. Instead the `__init__()` method of the derived __must__ explicitly pass a reference to the derived class when calling the parent class's `__init__()` method."
     ]
    },
    {
     "cell_type": "code",
     "collapsed": false,
     "input": [
      "class Python(Snake) :\n",
      "    \"\"\"\n",
      "    The Python class inherits from the Snake class and models a python.\n",
      "    It overrides the isVenomous() and description() methods provided by \n",
      "    the Snake class.\n",
      "    \"\"\"\n",
      "    def __init__(self, length) :\n",
      "        \"\"\"\n",
      "        Constructor of the Python class.\n",
      "        \"\"\"\n",
      "        \n",
      "        \"\"\"\n",
      "        Initialize the base class. \n",
      "        * Explicitly qualify the method call by prepending with \"Snake.\".\n",
      "        * A reference to the current class instance must be explicitly passed\n",
      "          as the first argument.\n",
      "        * No pythons are venomous so pass False as the third argument\n",
      "        \"\"\"\n",
      "        Snake.__init__(self, length, False)\n",
      "        # No member data to initialize\n",
      "    \n",
      "    # Override isVenomous to always return False.\n",
      "    def isVenomous(self) :\n",
      "        \"\"\"Always returns false. No pythons are venomous.\"\"\"\n",
      "        return False\n",
      "    \n",
      "    # Override description to print a more appropriate message.\n",
      "    def description(self) :\n",
      "        \"\"\"Prints a textual description of the python.\"\"\"\n",
      "        print \"I am a \" + str(self.getLengthInMetres()) + \"m long python. My hiss is worse than my bite!\"\n",
      "\n",
      "help(Python)"
     ],
     "language": "python",
     "metadata": {},
     "outputs": []
    },
    {
     "cell_type": "code",
     "collapsed": false,
     "input": [
      "pythonInstance = Python(2.0)"
     ],
     "language": "python",
     "metadata": {},
     "outputs": []
    },
    {
     "cell_type": "code",
     "collapsed": false,
     "input": [
      "pythonInstance.description()"
     ],
     "language": "python",
     "metadata": {},
     "outputs": []
    }
   ],
   "metadata": {}
  }
 ]
}
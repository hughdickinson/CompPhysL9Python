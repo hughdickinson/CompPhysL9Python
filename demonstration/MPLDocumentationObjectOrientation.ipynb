{
 "metadata": {
  "name": "",
  "signature": "sha256:bc0b6a1475dad1b5e81643287f6681914b25de72699e67c2cd122369d525cbca"
 },
 "nbformat": 3,
 "nbformat_minor": 0,
 "worksheets": [
  {
   "cells": [
    {
     "cell_type": "heading",
     "level": 1,
     "metadata": {},
     "source": [
      "More Matplotlib"
     ]
    },
    {
     "cell_type": "heading",
     "level": 2,
     "metadata": {},
     "source": [
      "Initial Setup (Recapitulation)"
     ]
    },
    {
     "cell_type": "markdown",
     "metadata": {},
     "source": [
      "Recall that the following \"magic\" command enables __inline__ display of the figures that are created using _Matplotlib_ within the _IPython Notebook_."
     ]
    },
    {
     "cell_type": "code",
     "collapsed": false,
     "input": [
      "%matplotlib inline"
     ],
     "language": "python",
     "metadata": {},
     "outputs": [],
     "prompt_number": 98
    },
    {
     "cell_type": "markdown",
     "metadata": {},
     "source": [
      "Import the `pyplot` module from the `matplotlib` package. Recall that this __does not__ import the __symbols__ from `pyplot`. Use of these symbols still requires explicit qualifigation e.g. `pyplot.plot(...)`."
     ]
    },
    {
     "cell_type": "code",
     "collapsed": false,
     "input": [
      "from matplotlib import pyplot"
     ],
     "language": "python",
     "metadata": {},
     "outputs": [],
     "prompt_number": 99
    },
    {
     "cell_type": "markdown",
     "metadata": {},
     "source": [
      "Import the `numpy` module to make generation of plottable data more straightforward."
     ]
    },
    {
     "cell_type": "code",
     "collapsed": false,
     "input": [
      "import numpy"
     ],
     "language": "python",
     "metadata": {},
     "outputs": [],
     "prompt_number": 100
    },
    {
     "cell_type": "markdown",
     "metadata": {},
     "source": [
      "Use the `numpy.linspace(...)` function to generate a `numpy.array` containing 100 $x$ values evenly distributed between 0 and 2$\\pi$. __Note__ the use of the `numpy.pi` constant."
     ]
    },
    {
     "cell_type": "code",
     "collapsed": false,
     "input": [
      "xValues = numpy.linspace(0, 2.0*numpy.pi, 100)"
     ],
     "language": "python",
     "metadata": {},
     "outputs": [],
     "prompt_number": 101
    },
    {
     "cell_type": "code",
     "collapsed": false,
     "input": [
      "help(numpy.linspace)"
     ],
     "language": "python",
     "metadata": {},
     "outputs": [
      {
       "output_type": "stream",
       "stream": "stdout",
       "text": [
        "Help on function linspace in module numpy.core.function_base:\n",
        "\n",
        "linspace(start, stop, num=50, endpoint=True, retstep=False)\n",
        "    Return evenly spaced numbers over a specified interval.\n",
        "    \n",
        "    Returns `num` evenly spaced samples, calculated over the\n",
        "    interval [`start`, `stop` ].\n",
        "    \n",
        "    The endpoint of the interval can optionally be excluded.\n",
        "    \n",
        "    Parameters\n",
        "    ----------\n",
        "    start : scalar\n",
        "        The starting value of the sequence.\n",
        "    stop : scalar\n",
        "        The end value of the sequence, unless `endpoint` is set to False.\n",
        "        In that case, the sequence consists of all but the last of ``num + 1``\n",
        "        evenly spaced samples, so that `stop` is excluded.  Note that the step\n",
        "        size changes when `endpoint` is False.\n",
        "    num : int, optional\n",
        "        Number of samples to generate. Default is 50.\n",
        "    endpoint : bool, optional\n",
        "        If True, `stop` is the last sample. Otherwise, it is not included.\n",
        "        Default is True.\n",
        "    retstep : bool, optional\n",
        "        If True, return (`samples`, `step`), where `step` is the spacing\n",
        "        between samples.\n",
        "    \n",
        "    Returns\n",
        "    -------\n",
        "    samples : ndarray\n",
        "        There are `num` equally spaced samples in the closed interval\n",
        "        ``[start, stop]`` or the half-open interval ``[start, stop)``\n",
        "        (depending on whether `endpoint` is True or False).\n",
        "    step : float (only if `retstep` is True)\n",
        "        Size of spacing between samples.\n",
        "    \n",
        "    \n",
        "    See Also\n",
        "    --------\n",
        "    arange : Similiar to `linspace`, but uses a step size (instead of the\n",
        "             number of samples).\n",
        "    logspace : Samples uniformly distributed in log space.\n",
        "    \n",
        "    Examples\n",
        "    --------\n",
        "    >>> np.linspace(2.0, 3.0, num=5)\n",
        "        array([ 2.  ,  2.25,  2.5 ,  2.75,  3.  ])\n",
        "    >>> np.linspace(2.0, 3.0, num=5, endpoint=False)\n",
        "        array([ 2. ,  2.2,  2.4,  2.6,  2.8])\n",
        "    >>> np.linspace(2.0, 3.0, num=5, retstep=True)\n",
        "        (array([ 2.  ,  2.25,  2.5 ,  2.75,  3.  ]), 0.25)\n",
        "    \n",
        "    Graphical illustration:\n",
        "    \n",
        "    >>> import matplotlib.pyplot as plt\n",
        "    >>> N = 8\n",
        "    >>> y = np.zeros(N)\n",
        "    >>> x1 = np.linspace(0, 10, N, endpoint=True)\n",
        "    >>> x2 = np.linspace(0, 10, N, endpoint=False)\n",
        "    >>> plt.plot(x1, y, 'o')\n",
        "    [<matplotlib.lines.Line2D object at 0x...>]\n",
        "    >>> plt.plot(x2, y + 0.5, 'o')\n",
        "    [<matplotlib.lines.Line2D object at 0x...>]\n",
        "    >>> plt.ylim([-0.5, 1])\n",
        "    (-0.5, 1)\n",
        "    >>> plt.show()\n",
        "\n"
       ]
      }
     ],
     "prompt_number": 102
    },
    {
     "cell_type": "markdown",
     "metadata": {},
     "source": [
      "Generate 100 $y$ values corresonding to ${\\rm sinc}(x)$."
     ]
    },
    {
     "cell_type": "code",
     "collapsed": false,
     "input": [
      "yValues = numpy.sinc(xValues)"
     ],
     "language": "python",
     "metadata": {},
     "outputs": [],
     "prompt_number": 103
    },
    {
     "cell_type": "markdown",
     "metadata": {},
     "source": [
      "Generate a plot of ${\\rm sinc}(x)$ versus $x$. Recall that the `plot(...)` function returns a `list` of references (handles) to the `matplotlib.lines.Line2D` instances that represent the plotted curves."
     ]
    },
    {
     "cell_type": "code",
     "collapsed": false,
     "input": [
      "# define a function so that the same plot can be regenerated easily\n",
      "def makeExamplePlot() :\n",
      "    plottedCurves = pyplot.plot(xValues, yValues)\n",
      "    \n",
      "    # Add and format axis labels\n",
      "    xLabelText = pyplot.xlabel(r'$\\theta/\\pi$') \n",
      "    yLabelText = pyplot.ylabel(r'$\\sin(x)/x$')\n",
      "    xLabelText.set_fontsize(20)\n",
      "    yLabelText.set_fontsize(20)\n",
      "    return plottedCurves\n",
      "\n",
      "# Only one curve was plotted, so plottedCurves comprises a single element\n",
      "# of type matplotlib.lines.Line2D\n",
      "print \"Type returned by plot() =>\", type(makeExamplePlot()[0])"
     ],
     "language": "python",
     "metadata": {},
     "outputs": [
      {
       "output_type": "stream",
       "stream": "stdout",
       "text": [
        "Type returned by plot() => "
       ]
      },
      {
       "output_type": "stream",
       "stream": "stdout",
       "text": [
        "<class 'matplotlib.lines.Line2D'>\n"
       ]
      },
      {
       "metadata": {},
       "output_type": "display_data",
       "png": "[encoded data removed]",
       "text": [
        "<matplotlib.figure.Figure at 0x109774c50>"
       ]
      }
     ],
     "prompt_number": 112
    },
    {
     "cell_type": "heading",
     "level": 2,
     "metadata": {},
     "source": [
      "Reference Documentation for `pyplot.plot(...)`"
     ]
    },
    {
     "cell_type": "markdown",
     "metadata": {},
     "source": [
      "__Remember__ that _extensive_ reference material for the `pyplot.plot(...)` function is available [online](http://matplotlib.org/api/pyplot_api.html#matplotlib.pyplot.plot) or using the Python `help(...)` function."
     ]
    },
    {
     "cell_type": "code",
     "collapsed": false,
     "input": [
      "help (pyplot.plot)"
     ],
     "language": "python",
     "metadata": {},
     "outputs": [
      {
       "output_type": "stream",
       "stream": "stdout",
       "text": [
        "Help on function plot in module matplotlib.pyplot:\n",
        "\n",
        "plot(*args, **kwargs)\n",
        "    Plot lines and/or markers to the\n",
        "    :class:`~matplotlib.axes.Axes`.  *args* is a variable length\n",
        "    argument, allowing for multiple *x*, *y* pairs with an\n",
        "    optional format string.  For example, each of the following is\n",
        "    legal::\n",
        "    \n",
        "        plot(x, y)         # plot x and y using default line style and color\n",
        "        plot(x, y, 'bo')   # plot x and y using blue circle markers\n",
        "        plot(y)            # plot y using x as index array 0..N-1\n",
        "        plot(y, 'r+')      # ditto, but with red plusses\n",
        "    \n",
        "    If *x* and/or *y* is 2-dimensional, then the corresponding columns\n",
        "    will be plotted.\n",
        "    \n",
        "    An arbitrary number of *x*, *y*, *fmt* groups can be\n",
        "    specified, as in::\n",
        "    \n",
        "        a.plot(x1, y1, 'g^', x2, y2, 'g-')\n",
        "    \n",
        "    Return value is a list of lines that were added.\n",
        "    \n",
        "    The following format string characters are accepted to control\n",
        "    the line style or marker:\n",
        "    \n",
        "    ================    ===============================\n",
        "    character           description\n",
        "    ================    ===============================\n",
        "    ``'-'``             solid line style\n",
        "    ``'--'``            dashed line style\n",
        "    ``'-.'``            dash-dot line style\n",
        "    ``':'``             dotted line style\n",
        "    ``'.'``             point marker\n",
        "    ``','``             pixel marker\n",
        "    ``'o'``             circle marker\n",
        "    ``'v'``             triangle_down marker\n",
        "    ``'^'``             triangle_up marker\n",
        "    ``'<'``             triangle_left marker\n",
        "    ``'>'``             triangle_right marker\n",
        "    ``'1'``             tri_down marker\n",
        "    ``'2'``             tri_up marker\n",
        "    ``'3'``             tri_left marker\n",
        "    ``'4'``             tri_right marker\n",
        "    ``'s'``             square marker\n",
        "    ``'p'``             pentagon marker\n",
        "    ``'*'``             star marker\n",
        "    ``'h'``             hexagon1 marker\n",
        "    ``'H'``             hexagon2 marker\n",
        "    ``'+'``             plus marker\n",
        "    ``'x'``             x marker\n",
        "    ``'D'``             diamond marker\n",
        "    ``'d'``             thin_diamond marker\n",
        "    ``'|'``             vline marker\n",
        "    ``'_'``             hline marker\n",
        "    ================    ===============================\n",
        "    \n",
        "    \n",
        "    The following color abbreviations are supported:\n",
        "    \n",
        "    ==========  ========\n",
        "    character   color\n",
        "    ==========  ========\n",
        "    'b'         blue\n",
        "    'g'         green\n",
        "    'r'         red\n",
        "    'c'         cyan\n",
        "    'm'         magenta\n",
        "    'y'         yellow\n",
        "    'k'         black\n",
        "    'w'         white\n",
        "    ==========  ========\n",
        "    \n",
        "    In addition, you can specify colors in many weird and\n",
        "    wonderful ways, including full names (``'green'``), hex\n",
        "    strings (``'#008000'``), RGB or RGBA tuples (``(0,1,0,1)``) or\n",
        "    grayscale intensities as a string (``'0.8'``).  Of these, the\n",
        "    string specifications can be used in place of a ``fmt`` group,\n",
        "    but the tuple forms can be used only as ``kwargs``.\n",
        "    \n",
        "    Line styles and colors are combined in a single format string, as in\n",
        "    ``'bo'`` for blue circles.\n",
        "    \n",
        "    The *kwargs* can be used to set line properties (any property that has\n",
        "    a ``set_*`` method).  You can use this to set a line label (for auto\n",
        "    legends), linewidth, anitialising, marker face color, etc.  Here is an\n",
        "    example::\n",
        "    \n",
        "        plot([1,2,3], [1,2,3], 'go-', label='line 1', linewidth=2)\n",
        "        plot([1,2,3], [1,4,9], 'rs',  label='line 2')\n",
        "        axis([0, 4, 0, 10])\n",
        "        legend()\n",
        "    \n",
        "    If you make multiple lines with one plot command, the kwargs\n",
        "    apply to all those lines, e.g.::\n",
        "    \n",
        "        plot(x1, y1, x2, y2, antialised=False)\n",
        "    \n",
        "    Neither line will be antialiased.\n",
        "    \n",
        "    You do not need to use format strings, which are just\n",
        "    abbreviations.  All of the line properties can be controlled\n",
        "    by keyword arguments.  For example, you can set the color,\n",
        "    marker, linestyle, and markercolor with::\n",
        "    \n",
        "        plot(x, y, color='green', linestyle='dashed', marker='o',\n",
        "             markerfacecolor='blue', markersize=12).  See\n",
        "             :class:`~matplotlib.lines.Line2D` for details.\n",
        "    \n",
        "    The kwargs are :class:`~matplotlib.lines.Line2D` properties:\n",
        "    \n",
        "      agg_filter: unknown\n",
        "      alpha: float (0.0 transparent through 1.0 opaque)         \n",
        "      animated: [True | False]         \n",
        "      antialiased or aa: [True | False]         \n",
        "      axes: an :class:`~matplotlib.axes.Axes` instance         \n",
        "      clip_box: a :class:`matplotlib.transforms.Bbox` instance         \n",
        "      clip_on: [True | False]         \n",
        "      clip_path: [ (:class:`~matplotlib.path.Path`,         :class:`~matplotlib.transforms.Transform`) |         :class:`~matplotlib.patches.Patch` | None ]         \n",
        "      color or c: any matplotlib color         \n",
        "      contains: a callable function         \n",
        "      dash_capstyle: ['butt' | 'round' | 'projecting']         \n",
        "      dash_joinstyle: ['miter' | 'round' | 'bevel']         \n",
        "      dashes: sequence of on/off ink in points         \n",
        "      data: 2D array (rows are x, y) or two 1D arrays         \n",
        "      drawstyle: [ 'default' | 'steps' | 'steps-pre' | 'steps-mid' | 'steps-post' ]         \n",
        "      figure: a :class:`matplotlib.figure.Figure` instance         \n",
        "      fillstyle: ['full' | 'left' | 'right' | 'bottom' | 'top']         \n",
        "      gid: an id string         \n",
        "      label: any string         \n",
        "      linestyle or ls: [ ``'-'`` | ``'--'`` | ``'-.'`` | ``':'`` | ``'None'`` | ``' '`` | ``''`` ]         and any drawstyle in combination with a linestyle, e.g. ``'steps--'``.         \n",
        "      linewidth or lw: float value in points         \n",
        "      lod: [True | False]         \n",
        "      marker: [ ``7`` | ``4`` | ``5`` | ``6`` | ``'o'`` | ``'D'`` | ``'h'`` | ``'H'`` | ``'_'`` | ``''`` | ``'None'`` | ``' '`` | ``None`` | ``'8'`` | ``'p'`` | ``','`` | ``'+'`` | ``'.'`` | ``'s'`` | ``'*'`` | ``'d'`` | ``3`` | ``0`` | ``1`` | ``2`` | ``'1'`` | ``'3'`` | ``'4'`` | ``'2'`` | ``'v'`` | ``'<'`` | ``'>'`` | ``'^'`` | ``'|'`` | ``'x'`` | ``'$...$'`` | *tuple* | *Nx2 array* ]\n",
        "      markeredgecolor or mec: any matplotlib color         \n",
        "      markeredgewidth or mew: float value in points         \n",
        "      markerfacecolor or mfc: any matplotlib color         \n",
        "      markerfacecoloralt or mfcalt: any matplotlib color         \n",
        "      markersize or ms: float         \n",
        "      markevery: None | integer | (startind, stride)\n",
        "      picker: float distance in points or callable pick function         ``fn(artist, event)``         \n",
        "      pickradius: float distance in points         \n",
        "      rasterized: [True | False | None]         \n",
        "      snap: unknown\n",
        "      solid_capstyle: ['butt' | 'round' |  'projecting']         \n",
        "      solid_joinstyle: ['miter' | 'round' | 'bevel']         \n",
        "      transform: a :class:`matplotlib.transforms.Transform` instance         \n",
        "      url: a url string         \n",
        "      visible: [True | False]         \n",
        "      xdata: 1D array         \n",
        "      ydata: 1D array         \n",
        "      zorder: any number         \n",
        "    \n",
        "    kwargs *scalex* and *scaley*, if defined, are passed on to\n",
        "    :meth:`~matplotlib.axes.Axes.autoscale_view` to determine\n",
        "    whether the *x* and *y* axes are autoscaled; the default is\n",
        "    *True*.\n",
        "    \n",
        "    Additional kwargs: hold = [True|False] overrides default hold state\n",
        "\n"
       ]
      }
     ],
     "prompt_number": 90
    },
    {
     "cell_type": "heading",
     "level": 2,
     "metadata": {},
     "source": [
      "Plot Axes"
     ]
    },
    {
     "cell_type": "markdown",
     "metadata": {},
     "source": [
      "Plot axis limits can be __independently__ customized using the `pyplot.xlim(...)` and `pyplot.ylim(...)` functions. It is possible to supply the minimum __and__ maximum axis values together or independently using named arguments."
     ]
    },
    {
     "cell_type": "code",
     "collapsed": false,
     "input": [
      "help (pyplot.xlim)"
     ],
     "language": "python",
     "metadata": {},
     "outputs": [
      {
       "output_type": "stream",
       "stream": "stdout",
       "text": [
        "Help on function xlim in module matplotlib.pyplot:\n",
        "\n",
        "xlim(*args, **kwargs)\n",
        "    Set/Get the xlimits of the current axes::\n",
        "    \n",
        "      xmin, xmax = xlim()   # return the current xlim\n",
        "      xlim( (xmin, xmax) )  # set the xlim to xmin, xmax\n",
        "      xlim( xmin, xmax )    # set the xlim to xmin, xmax\n",
        "    \n",
        "    If you do not specify args, you can pass the xmin and xmax as\n",
        "    kwargs, eg.::\n",
        "    \n",
        "      xlim(xmax=3) # adjust the max leaving min unchanged\n",
        "      xlim(xmin=1) # adjust the min leaving max unchanged\n",
        "    \n",
        "    Setting limits turns autoscaling off for the x-axis.\n",
        "    \n",
        "    The new axis limits are returned as a length 2 tuple.\n",
        "\n"
       ]
      }
     ],
     "prompt_number": 96
    },
    {
     "cell_type": "code",
     "collapsed": false,
     "input": [
      "# Regenerate the example curve\n",
      "plottedCurves = makeExamplePlot()\n",
      "\n",
      "# Explicitly alter the y-axis limits\n",
      "newYLimits = pyplot.ylim(0, 0.2)\n",
      "print \"New Y-axis limits =>\", newYLimits\n",
      "\n",
      "# Explicitly alter the x-axis limits\n",
      "newXLimits = pyplot.xlim(1, 4)\n",
      "print \"New X-axis limits =>\", newXLimits"
     ],
     "language": "python",
     "metadata": {},
     "outputs": [
      {
       "output_type": "stream",
       "stream": "stdout",
       "text": [
        "New Y-axis limits => (0, 0.2)\n",
        "New X-axis limits => (1, 4)\n"
       ]
      },
      {
       "metadata": {},
       "output_type": "display_data",
       "png": "[encoded data removed]",
       "text": [
        "<matplotlib.figure.Figure at 0x109725b10>"
       ]
      }
     ],
     "prompt_number": 121
    },
    {
     "cell_type": "markdown",
     "metadata": {},
     "source": [
      "The `pyplot.axis(...)` function allows the axis ranges of the most recently plotted entity to be __simultaneously__ customized. \n",
      "\n",
      "Desired axis limits __may__ be passed as a `list` comprising _four_ numeric elements that will be interpreted __in order__ as [$x_{\\min}, x_{\\max}, y_{\\min}, y_{\\max}$]. Alternatively, the `pyplot.axis(...)` function provides a similar interface to `xlim(...)` and `ylim(...)` functions, allowing the upper and lower limits of both axes to be independently set using named (or _keyword_) arguments. In adition, several built-in setups are provided that frame the plotted data with different levels of padding and handling of the x and y axis scaling.\n",
      "\n",
      "Reference material is available [online](http://matplotlib.org/api/pyplot_api.html#matplotlib.pyplot.axis) or __inline__ using the Python `help(...)` function."
     ]
    },
    {
     "cell_type": "code",
     "collapsed": false,
     "input": [
      "help(pyplot.axis)"
     ],
     "language": "python",
     "metadata": {},
     "outputs": [
      {
       "output_type": "stream",
       "stream": "stdout",
       "text": [
        "Help on function axis in module matplotlib.pyplot:\n",
        "\n",
        "axis(*v, **kwargs)\n",
        "    Set/Get the axis properties:\n",
        "    \n",
        "      >>> axis()\n",
        "    \n",
        "    returns the current axes limits ``[xmin, xmax, ymin, ymax]``.\n",
        "    \n",
        "      >>> axis(v)\n",
        "    \n",
        "    sets the min and max of the x and y axes, with\n",
        "    ``v = [xmin, xmax, ymin, ymax]``.\n",
        "    \n",
        "      >>> axis('off')\n",
        "    \n",
        "    turns off the axis lines and labels.\n",
        "    \n",
        "      >>> axis('equal')\n",
        "    \n",
        "    changes limits of *x* or *y* axis so that equal increments of *x*\n",
        "    and *y* have the same length; a circle is circular.\n",
        "    \n",
        "      >>> axis('scaled')\n",
        "    \n",
        "    achieves the same result by changing the dimensions of the plot box instead\n",
        "    of the axis data limits.\n",
        "    \n",
        "      >>> axis('tight')\n",
        "    \n",
        "    changes *x* and *y* axis limits such that all data is shown. If\n",
        "    all data is already shown, it will move it to the center of the\n",
        "    figure without modifying (*xmax* - *xmin*) or (*ymax* -\n",
        "    *ymin*). Note this is slightly different than in MATLAB.\n",
        "    \n",
        "      >>> axis('image')\n",
        "    \n",
        "    is 'scaled' with the axis limits equal to the data limits.\n",
        "    \n",
        "      >>> axis('auto')\n",
        "    \n",
        "    and\n",
        "    \n",
        "      >>> axis('normal')\n",
        "    \n",
        "    are deprecated. They restore default behavior; axis limits are automatically\n",
        "    scaled to make the data fit comfortably within the plot box.\n",
        "    \n",
        "    if ``len(*v)==0``, you can pass in *xmin*, *xmax*, *ymin*, *ymax*\n",
        "    as kwargs selectively to alter just those limits without changing\n",
        "    the others.\n",
        "    \n",
        "    The xmin, xmax, ymin, ymax tuple is returned\n",
        "    \n",
        "    .. seealso::\n",
        "    \n",
        "        :func:`xlim`, :func:`ylim`\n",
        "           For setting the x- and y-limits individually.\n",
        "\n"
       ]
      }
     ],
     "prompt_number": 122
    },
    {
     "cell_type": "markdown",
     "metadata": {},
     "source": [
      "To illustrate usage of a built-in axis setups, the `'tight'` preset defines axis limits that exactly contain the plotted points."
     ]
    },
    {
     "cell_type": "code",
     "collapsed": false,
     "input": [
      "# Regenerate the example curve\n",
      "plottedCurves = makeExamplePlot()\n",
      "# Change the axis limits to exactly contain the plotted points.\n",
      "newLimits = pyplot.axis('tight')\n",
      "print \"New axis limits =>\", newLimits"
     ],
     "language": "python",
     "metadata": {},
     "outputs": [
      {
       "output_type": "stream",
       "stream": "stdout",
       "text": [
        "New axis limits => (0.0, 6.2831853071795862, -0.21631806656338989, 1.0)\n"
       ]
      },
      {
       "metadata": {},
       "output_type": "display_data",
       "png": "[encoded data removed]",
       "text": [
        "<matplotlib.figure.Figure at 0x109a52190>"
       ]
      }
     ],
     "prompt_number": 119
    },
    {
     "cell_type": "heading",
     "level": 2,
     "metadata": {},
     "source": [
      "Plot Legends"
     ]
    },
    {
     "cell_type": "markdown",
     "metadata": {},
     "source": [
      "When multiple datasets or functions are plotted on shared axes, a legend is typically provided to annotate and disambiguate the individual curves or data points. A legend can be added to the plotted figure using the `pyplot.legend(...)` function.\n",
      "\n",
      "A simple invocation of the `pyplot.legend(...)` function accepts a `tuple` containing references (or _handles_) to plotted curves (`matplotlib.lines.Line2D` instances) as its first argument and another `tuple` containing (optionally _raw_) `str` or `unicode` literals or instances that define textual labels to annotate each curve."
     ]
    },
    {
     "cell_type": "code",
     "collapsed": false,
     "input": [
      "# 1\n",
      "def makeExampleMultiPlots() :\n",
      "    # 2\n",
      "    xValues = numpy.linspace(0, 2.0*numpy.pi, 100)\n",
      "    # 3A\n",
      "    sinValues = numpy.sin(xValues)\n",
      "    # 3B\n",
      "    sinCubedValues = numpy.power(sinValues, 3)\n",
      "    # 3C\n",
      "    sincValues = numpy.sinc(xValues)\n",
      "    # 4\n",
      "    plottedCurves = pyplot.plot(xValues, sinValues, xValues, sincValues, xValues, sinCubedValues)\n",
      "    print \"plottedCurves => \", plottedCurves\n",
      "    # 5\n",
      "    return plottedCurves\n",
      "\n",
      "# 6\n",
      "sinValues, sincValues, sinCubedValues = makeExampleMultiPlots()\n",
      "\n",
      "# 7\n",
      "legend = pyplot.legend((sinValues, sincValues, sinCubedValues), (r'$\\sin(x)$', r'${\\rm sinc}(x)$', r'$\\sin^{3}(x)$'))"
     ],
     "language": "python",
     "metadata": {},
     "outputs": [
      {
       "output_type": "stream",
       "stream": "stdout",
       "text": [
        "plottedCurves =>  [<matplotlib.lines.Line2D object at 0x109bfa790>, <matplotlib.lines.Line2D object at 0x109bfa650>, <matplotlib.lines.Line2D object at 0x109bfa110>]\n"
       ]
      },
      {
       "metadata": {},
       "output_type": "display_data",
       "png": "[encoded data removed]",
       "text": [
        "<matplotlib.figure.Figure at 0x109ca36d0>"
       ]
      }
     ],
     "prompt_number": 138
    },
    {
     "cell_type": "heading",
     "level": 3,
     "metadata": {},
     "source": [
      "Code Analysis"
     ]
    },
    {
     "cell_type": "markdown",
     "metadata": {},
     "source": [
      "1. Define a __function__ with the identifier `makeExampleMultiPlots` to enable straightforward regeneration of the multi-curve figure.\n",
      "2. Use the `numpy.linspace(...)` function to generate a `numpy.array` of $x$-values containing 100 `float`-type elements with values evenly distributed between 0 and 2$\\pi$.\n",
      "3. Define three `numpy.array`s specifying the $y$-values for three curves.\n",
      "    1. Use the `numpy.sin(...)` function to generate a `numpy.array` containing the sines of the $x$-values.   \n",
      "    2. Use the `numpy.power(...)` function to generate a `numpy.array` containing the __cubes__ of the sines of the $x$-values.\n",
      "    3. Use the `numpy.power(...)` function to generate a `numpy.array` containing the values of the __sinc__ function ($\\sin(x)/x$) evaluated at each of the $x$-values. \n",
      "4. Use a __novel invocation signature__ of the `pyplot.plot(...)` function that draws multiple curves. Using this signature the first 2*n* function arguments should be array-type values (e.g. `numpy.array`s) that will interpretted as the $x$ and $y$ values of *n* curves to be drawn. \n",
      "\n",
      "    The invocation used in the example supplies 6 arguments (3 pairs of $x$ and $y$ value arrays), so three curves will be drawn.\n",
      "    \n",
      "    __Recall__ that the `pyplot.plot(...)` function returns a `list` of `matplotlib.lines.Line2D` instances that correspond to the plotted curves. This list is assigned to a __function-local__ variable with the identifier `plottedCurves`.\n",
      "5. The list that is referred to by `plottedCurves` is returned as the function result.\n",
      "6. Invoke the `makeExampleMultiPlots` function to generate the multi-curve figure. Note the syntax that allows the returned `list` of `matplotlib.lines.Line2D` instances to be \"__unwrapped__\". __*Unwrapping*__ allows each element of the `list` to be assigned to separate identifiers - `sinValues`, `sincValues` and `sinCubedValues`.\n",
      "7. Invoke the `pyplot.legend(...)` function. The __first argument__ is a tuple containing `matplotlib.lines.Line2D` references that specify the curves for which legend entries should be generated. The __second argument__  is a tuple containing three _raw_ `str` literals that specify (in order) LaTeX-formatted labels for each of the curves specified by the first argument.\n",
      "\n",
      "More information about the `pyplot.legend(...)` function can be found [online](http://matplotlib.org/1.4.3/users/legend_guide.html#legend-guide) or _inline_ using the Python `help(...)` function."
     ]
    },
    {
     "cell_type": "code",
     "collapsed": false,
     "input": [
      "help(pyplot.legend)"
     ],
     "language": "python",
     "metadata": {},
     "outputs": [
      {
       "output_type": "stream",
       "stream": "stdout",
       "text": [
        "Help on function legend in module matplotlib.pyplot:\n",
        "\n",
        "legend(*args, **kwargs)\n",
        "    Call signature::\n",
        "    \n",
        "      legend(*args, **kwargs)\n",
        "    \n",
        "    Place a legend on the current axes at location *loc*.  Labels are a\n",
        "    sequence of strings and *loc* can be a string or an integer specifying\n",
        "    the legend location.\n",
        "    \n",
        "    To make a legend with existing lines::\n",
        "    \n",
        "      legend()\n",
        "    \n",
        "    :meth:`legend` by itself will try and build a legend using the label\n",
        "    property of the lines/patches/collections.  You can set the label of\n",
        "    a line by doing::\n",
        "    \n",
        "      plot(x, y, label='my data')\n",
        "    \n",
        "    or::\n",
        "    \n",
        "      line.set_label('my data').\n",
        "    \n",
        "    If label is set to '_nolegend_', the item will not be shown in\n",
        "    legend.\n",
        "    \n",
        "    To automatically generate the legend from labels::\n",
        "    \n",
        "      legend( ('label1', 'label2', 'label3') )\n",
        "    \n",
        "    To make a legend for a list of lines and labels::\n",
        "    \n",
        "      legend( (line1, line2, line3), ('label1', 'label2', 'label3') )\n",
        "    \n",
        "    To make a legend at a given location, using a location argument::\n",
        "    \n",
        "      legend( ('label1', 'label2', 'label3'), loc='upper left')\n",
        "    \n",
        "    or::\n",
        "    \n",
        "      legend( (line1, line2, line3),  ('label1', 'label2', 'label3'), loc=2)\n",
        "    \n",
        "    The location codes are\n",
        "    \n",
        "      ===============   =============\n",
        "      Location String   Location Code\n",
        "      ===============   =============\n",
        "      'best'            0\n",
        "      'upper right'     1\n",
        "      'upper left'      2\n",
        "      'lower left'      3\n",
        "      'lower right'     4\n",
        "      'right'           5\n",
        "      'center left'     6\n",
        "      'center right'    7\n",
        "      'lower center'    8\n",
        "      'upper center'    9\n",
        "      'center'          10\n",
        "      ===============   =============\n",
        "    \n",
        "    \n",
        "    Users can specify any arbitrary location for the legend using the\n",
        "    *bbox_to_anchor* keyword argument. bbox_to_anchor can be an instance\n",
        "    of BboxBase(or its derivatives) or a tuple of 2 or 4 floats.\n",
        "    For example,\n",
        "    \n",
        "      loc = 'upper right', bbox_to_anchor = (0.5, 0.5)\n",
        "    \n",
        "    will place the legend so that the upper right corner of the legend at\n",
        "    the center of the axes.\n",
        "    \n",
        "    The legend location can be specified in other coordinate, by using the\n",
        "    *bbox_transform* keyword.\n",
        "    \n",
        "    The loc itslef can be a 2-tuple giving x,y of the lower-left corner of\n",
        "    the legend in axes coords (*bbox_to_anchor* is ignored).\n",
        "    \n",
        "    \n",
        "    Keyword arguments:\n",
        "    \n",
        "      *prop*: [ *None* | FontProperties | dict ]\n",
        "        A :class:`matplotlib.font_manager.FontProperties`\n",
        "        instance. If *prop* is a dictionary, a new instance will be\n",
        "        created with *prop*. If *None*, use rc settings.\n",
        "    \n",
        "      *numpoints*: integer\n",
        "        The number of points in the legend for line\n",
        "    \n",
        "      *scatterpoints*: integer\n",
        "        The number of points in the legend for scatter plot\n",
        "    \n",
        "      *scatteroffsets*: list of floats\n",
        "        a list of yoffsets for scatter symbols in legend\n",
        "    \n",
        "      *markerscale*: [ *None* | scalar ]\n",
        "        The relative size of legend markers vs. original. If *None*,\n",
        "        use rc settings.\n",
        "    \n",
        "      *frameon*: [ *True* | *False* ]\n",
        "        if *True*, draw a frame around the legend.\n",
        "        The default is set by the rcParam 'legend.frameon'\n",
        "    \n",
        "      *fancybox*: [ *None* | *False* | *True* ]\n",
        "        if *True*, draw a frame with a round fancybox.  If *None*,\n",
        "        use rc settings\n",
        "    \n",
        "      *shadow*: [ *None* | *False* | *True* ]\n",
        "        If *True*, draw a shadow behind legend. If *None*,\n",
        "        use rc settings.\n",
        "    \n",
        "      *ncol* : integer\n",
        "        number of columns. default is 1\n",
        "    \n",
        "      *mode* : [ \"expand\" | *None* ]\n",
        "        if mode is \"expand\", the legend will be horizontally expanded\n",
        "        to fill the axes area (or *bbox_to_anchor*)\n",
        "    \n",
        "      *bbox_to_anchor* : an instance of BboxBase or a tuple of 2 or 4 floats\n",
        "        the bbox that the legend will be anchored.\n",
        "    \n",
        "      *bbox_transform* : [ an instance of Transform | *None* ]\n",
        "        the transform for the bbox. transAxes if *None*.\n",
        "    \n",
        "      *title* : string\n",
        "        the legend title\n",
        "    \n",
        "    Padding and spacing between various elements use following\n",
        "    keywords parameters. These values are measure in font-size\n",
        "    units. E.g., a fontsize of 10 points and a handlelength=5\n",
        "    implies a handlelength of 50 points.  Values from rcParams\n",
        "    will be used if None.\n",
        "    \n",
        "    ================   ==================================================================\n",
        "    Keyword            Description\n",
        "    ================   ==================================================================\n",
        "    borderpad          the fractional whitespace inside the legend border\n",
        "    labelspacing       the vertical space between the legend entries\n",
        "    handlelength       the length of the legend handles\n",
        "    handletextpad      the pad between the legend handle and text\n",
        "    borderaxespad      the pad between the axes and legend border\n",
        "    columnspacing      the spacing between columns\n",
        "    ================   ==================================================================\n",
        "    \n",
        "    .. Note:: Not all kinds of artist are supported by the legend command.\n",
        "              See LINK (FIXME) for details.\n",
        "    \n",
        "    \n",
        "    **Example:**\n",
        "    \n",
        "    .. plot:: mpl_examples/api/legend_demo.py\n",
        "    \n",
        "    .. seealso::\n",
        "        :ref:`plotting-guide-legend`.\n",
        "\n"
       ]
      }
     ],
     "prompt_number": 123
    },
    {
     "cell_type": "heading",
     "level": 2,
     "metadata": {},
     "source": [
      "Multi-panel figures"
     ]
    },
    {
     "cell_type": "markdown",
     "metadata": {},
     "source": [
      "As well as drawing multiple curves on a __single__ pair of axes (Recall that _Matplotlib_ is primarily designed for 2-dimensional plotting), the `matplotlib.pyplot` module also provides the `subplot(...)` function, which allows multiple __separate__ \"_sub-plots_\" with independent axes to be unified within a single figure."
     ]
    },
    {
     "cell_type": "code",
     "collapsed": false,
     "input": [
      "help(pyplot.subplot)"
     ],
     "language": "python",
     "metadata": {},
     "outputs": [
      {
       "output_type": "stream",
       "stream": "stdout",
       "text": [
        "Help on function subplot in module matplotlib.pyplot:\n",
        "\n",
        "subplot(*args, **kwargs)\n",
        "    Create a subplot command, creating axes with::\n",
        "    \n",
        "      subplot(numRows, numCols, plotNum)\n",
        "    \n",
        "    where *plotNum* = 1 is the first plot number and increasing *plotNums*\n",
        "    fill rows first.  max(*plotNum*) == *numRows* * *numCols*\n",
        "    \n",
        "    You can leave out the commas if *numRows* <= *numCols* <=\n",
        "    *plotNum* < 10, as in::\n",
        "    \n",
        "      subplot(211)    # 2 rows, 1 column, first (upper) plot\n",
        "    \n",
        "    ``subplot(111)`` is the default axis.\n",
        "    \n",
        "    New subplots that overlap old will delete the old axes.  If you do\n",
        "    not want this behavior, use\n",
        "    :meth:`~matplotlib.figure.Figure.add_subplot` or the\n",
        "    :func:`~matplotlib.pyplot.axes` command.  Eg.::\n",
        "    \n",
        "      from pylab import *\n",
        "      plot([1,2,3])  # implicitly creates subplot(111)\n",
        "      subplot(211)   # overlaps, subplot(111) is killed\n",
        "      plot(rand(12), rand(12))\n",
        "      subplot(212, axisbg='y') # creates 2nd subplot with yellow background\n",
        "    \n",
        "    Keyword arguments:\n",
        "    \n",
        "      *axisbg*:\n",
        "        The background color of the subplot, which can be any valid\n",
        "        color specifier.  See :mod:`matplotlib.colors` for more\n",
        "        information.\n",
        "    \n",
        "      *polar*:\n",
        "        A boolean flag indicating whether the subplot plot should be\n",
        "        a polar projection.  Defaults to *False*.\n",
        "    \n",
        "      *projection*:\n",
        "        A string giving the name of a custom projection to be used\n",
        "        for the subplot. This projection must have been previously\n",
        "        registered. See :mod:`matplotlib.projections`.\n",
        "    \n",
        "    .. seealso::\n",
        "    \n",
        "        :func:`~matplotlib.pyplot.axes`\n",
        "            For additional information on :func:`axes` and\n",
        "            :func:`subplot` keyword arguments.\n",
        "    \n",
        "        :file:`examples/pylab_examples/polar_scatter.py`\n",
        "            For an example\n",
        "    \n",
        "    **Example:**\n",
        "    \n",
        "    .. plot:: mpl_examples/pylab_examples/subplot_demo.py\n",
        "\n"
       ]
      }
     ],
     "prompt_number": 139
    },
    {
     "cell_type": "markdown",
     "metadata": {},
     "source": [
      "The MATLAB-like interface that is provided by `pyplot` defines a concept of the \"_current axes_\". Any drawing commands (`legend(...)`, `setp(...)`, etc.) will refer to the curves (or other entities, like legends) that are drawn on those axes. \n",
      "\n",
      "The `subplot(...)` has __two__ effects.\n",
      "\n",
      "1. __If required__, a new subplot (independent axis pair) is defined. The new subplot is positioned on a rectilinear grid pattern with properties (i.e. row count and column count) that are specified using the arguments of the subplot function.\n",
      "2. The internal state of the `pyplot` module is altered such that subsequent drawing commands will affect the specified subplot i.e. the \"_current axes_\" concept is redefined. \n",
      "\n",
      "The `subplot(...)` function provides several signatures, but the __primary__ signature requires three arguments, specifying (in order) \n",
      "\n",
      "1. The number of __rows__ defining the _rectilinear grid_ on which the the subplot will be positioned.\n",
      "2. The number of __columns__ defining the _rectilinear grid_ on which the the subplot will be positioned.\n",
      "3. An integer that defines the node of the _rectilinear grid_ at which the subplot will be positioned. Nodes are counted from the top left of the plot and increase from left to right along each __row__ before moving to the next. __For example__, a grid with 3 rows and 4 columns implies node position labels with the illustrated configuration.\n",
      "\n",
      "$$\\left[\\begin{array}{cccc}\n",
      "1 & 2 & 3 & 4 \\\\\n",
      "5 & 6 & 7 & 8\\\\\n",
      "9 & 10 & 11 & 12\n",
      "\\end{array}\\right]$$"
     ]
    },
    {
     "cell_type": "code",
     "collapsed": false,
     "input": [
      "# 1\n",
      "pyplot.subplot(2,2,1)\n",
      "# 2\n",
      "sinPlot, sincPlot, sinCubedPlot = makeExampleMultiPlots()\n",
      "# 3\n",
      "pyplot.subplot(2,2,2)\n",
      "# 4\n",
      "plottedCurve = pyplot.plot(sinPlot.get_xdata(), sinPlot.get_ydata(), color=sinPlot.get_c())\n",
      "# 5\n",
      "pyplot.subplot(2,2,3)\n",
      "plottedCurve = pyplot.plot(sincPlot.get_xdata(), sincPlot.get_ydata(), color=sincPlot.get_c())\n",
      "\n",
      "pyplot.subplot(2,2,4)\n",
      "plottedCurve = pyplot.plot(sinCubedPlot.get_xdata(), sinCubedPlot.get_ydata(), color=sinCubedPlot.get_c())"
     ],
     "language": "python",
     "metadata": {},
     "outputs": [
      {
       "output_type": "stream",
       "stream": "stdout",
       "text": [
        "plottedCurves =>  [<matplotlib.lines.Line2D object at 0x10a6c91d0>, <matplotlib.lines.Line2D object at 0x10a70c7d0>, <matplotlib.lines.Line2D object at 0x10a70ccd0>]\n"
       ]
      },
      {
       "metadata": {},
       "output_type": "display_data",
       "png": "[encoded data removed]",
       "text": [
        "<matplotlib.figure.Figure at 0x10a6c3090>"
       ]
      }
     ],
     "prompt_number": 148
    },
    {
     "cell_type": "heading",
     "level": 3,
     "metadata": {},
     "source": [
      "Code Analysis"
     ]
    },
    {
     "cell_type": "markdown",
     "metadata": {},
     "source": [
      "1. Invoke the `subplot(...)` function for the first time. The first two arguments of the invocation implicitly define a rectilinear grid with two rows and two columns, while the final argument selects the __first__ grid node which occupies the __upper-left__ position of the grid.\n",
      "2. Call the previously defined `makeExampleMultiPlots()` function that will generate and draw three curves on the \"_current axes_\". `makeExampleMultiPlots()` returns a `list` of three `matplotlib.lines.Line2D` instances. This `list` is unwrapped its elements are assigned to individual identifiers.\n",
      "3. The second invocation of `subplot(...)` defines and selects a new axis set positioned at the __second__ node of the existing  rectilinear grid. This corresponds to the __upper-right__ position.\n",
      "4. The `pyplot.plot(...)` method is invoked to draw the first of the curves that was returned by the invocation of `makeExampleMultiPlots()`. The arguments supplied to `pyplot.plot(...)` are obtained using various methods provided by the `matplotlib.lines.Line2D` class.\n",
      "    1. The $x$ and $y$ data arrays can be extracted using the `get_xdata()` and `get_ydata()` methods, respectively.\n",
      "    2. The colour that is assigned to the curve can be extracted using the `get_c()` method and can be supplid as a value of the _keyword argument_ `color`.\n",
      "5. The previous step is repeated for the remaining two curves, substituting the final argument of the `subplot(...)` function to draw them in the __bottom-left__ and __bottom-right__ positions."
     ]
    },
    {
     "cell_type": "heading",
     "level": 1,
     "metadata": {},
     "source": [
      "Python File Input and Output"
     ]
    },
    {
     "cell_type": "heading",
     "level": 2,
     "metadata": {},
     "source": [
      "Opening Files"
     ]
    },
    {
     "cell_type": "markdown",
     "metadata": {},
     "source": [
      "To open a file using _Python_ the built-in `open(...)` function is provided. The `open(...)` function returns an instance of the `file` class that provides methods for reading and writing as well as a `close()` function, which safely finalizes any pending input or output operations and frees any system resources that were acquired when the file was opened, and __saves__ the file. "
     ]
    },
    {
     "cell_type": "code",
     "collapsed": false,
     "input": [
      "help(open)"
     ],
     "language": "python",
     "metadata": {},
     "outputs": [
      {
       "output_type": "stream",
       "stream": "stdout",
       "text": [
        "Help on built-in function open in module __builtin__:\n",
        "\n",
        "open(...)\n",
        "    open(name[, mode[, buffering]]) -> file object\n",
        "    \n",
        "    Open a file using the file() type, returns a file object.  This is the\n",
        "    preferred way to open a file.  See file.__doc__ for further information.\n",
        "\n"
       ]
      }
     ],
     "prompt_number": 149
    },
    {
     "cell_type": "markdown",
     "metadata": {},
     "source": [
      "The simplest invocation of `open(...)` requires a single argument - a `str`-type value specifying the __filesystem path__ of the file to be opened. More sophisticated usage enables an __access mode__ to be specified using a `str`-type value supplied as the second argument. Commonly specified access modes include\n",
      "\n",
      "* `'r'` opens a file in __read-only__ mode.\n",
      "* `'w'` opens a file in __write-only__ mode. Any previous content will be __erased__.\n",
      "* `'r+'` opens a file in __read-write__ mode.\n",
      "* `'a'` opens a file in __append__ mode. Any previous content will be retained and new content will be appended to the end of the file.\n",
      "\n",
      "More information about the possible access modes is available from the [online documentation](https://docs.python.org/2/library/functions.html#open) for the `open(...)` function or (as indicated by the output of the `help(...)` function!) by examining the contents of `file.__doc__`."
     ]
    },
    {
     "cell_type": "code",
     "collapsed": false,
     "input": [
      "print file.__doc__"
     ],
     "language": "python",
     "metadata": {},
     "outputs": [
      {
       "output_type": "stream",
       "stream": "stdout",
       "text": [
        "file(name[, mode[, buffering]]) -> file object\n",
        "\n",
        "Open a file.  The mode can be 'r', 'w' or 'a' for reading (default),\n",
        "writing or appending.  The file will be created if it doesn't exist\n",
        "when opened for writing or appending; it will be truncated when\n",
        "opened for writing.  Add a 'b' to the mode for binary files.\n",
        "Add a '+' to the mode to allow simultaneous reading and writing.\n",
        "If the buffering argument is given, 0 means unbuffered, 1 means line\n",
        "buffered, and larger numbers specify the buffer size.  The preferred way\n",
        "to open a file is with the builtin open() function.\n",
        "Add a 'U' to mode to open the file for input with universal newline\n",
        "support.  Any line ending in the input file will be seen as a '\\n'\n",
        "in Python.  Also, a file so opened gains the attribute 'newlines';\n",
        "the value for this attribute is one of None (no newline read yet),\n",
        "'\\r', '\\n', '\\r\\n' or a tuple containing all the newline types seen.\n",
        "\n",
        "'U' cannot be combined with 'w' or '+' mode.\n",
        "\n"
       ]
      }
     ],
     "prompt_number": 150
    },
    {
     "cell_type": "heading",
     "level": 2,
     "metadata": {},
     "source": [
      "Writing to Files"
     ]
    },
    {
     "cell_type": "heading",
     "level": 3,
     "metadata": {},
     "source": [
      "Security"
     ]
    },
    {
     "cell_type": "markdown",
     "metadata": {},
     "source": [
      "In some situations, the _IPython Notebook_ security policy prevents operations that modify the system state, including updates to the filesystem. If file output operations fail, it may be necessary to explicitly specify that the current notebook is \"_trusted_\". To do this simply choose _File_\u2192_Trust Notebook_ from the _IPython Notebook_ interface."
     ]
    },
    {
     "cell_type": "heading",
     "level": 3,
     "metadata": {},
     "source": [
      "Writing Strings to Files."
     ]
    },
    {
     "cell_type": "markdown",
     "metadata": {},
     "source": [
      "The `write(...)` method provided by the `file` class enables arbitrary strings of characters to be written (or appended, depending on the file __access mode__) to a file. \n",
      "\n",
      "The method __requires__ a single `str`-type argument, which specifies the characters to be written. The `write(...)` method does not modify its argument in any way before writing to the file. In particular, \"_invisible characters_\" such as newlines  must be explicitly specified if they are required."
     ]
    },
    {
     "cell_type": "code",
     "collapsed": false,
     "input": [
      "help(file.write)"
     ],
     "language": "python",
     "metadata": {},
     "outputs": [
      {
       "output_type": "stream",
       "stream": "stdout",
       "text": [
        "Help on method_descriptor:\n",
        "\n",
        "write(...)\n",
        "    write(str) -> None.  Write string str to file.\n",
        "    \n",
        "    Note that due to buffering, flush() or close() may be needed before\n",
        "    the file on disk reflects the data written.\n",
        "\n"
       ]
      }
     ],
     "prompt_number": 165
    },
    {
     "cell_type": "code",
     "collapsed": false,
     "input": [
      "# Open a file in the current directory with write access - if the file \n",
      "# already exists its contents will be overwritten. \n",
      "# The open(...) function returns an instance of the file class, which \n",
      "# is assigned the identifier \"fileForWriting\"\n",
      "fileForWriting = open('platonicWisdom', 'w')\n",
      "\n",
      "# Invoke the write(...) method to insert a string of characters into\n",
      "# the file. \n",
      "# A literal string is provided as the single required argument.\n",
      "# Note that an explicit newline ('\\n') character must be included.\n",
      "fileForWriting.write('\"The beginning is the most important part of the work.\"\\n')\n",
      "\n",
      "# Invoke the close() method to ensure that all output operations are completed\n",
      "# and acquired system resources are released.\n",
      "fileForWriting.close()"
     ],
     "language": "python",
     "metadata": {},
     "outputs": [],
     "prompt_number": 166
    },
    {
     "cell_type": "heading",
     "level": 3,
     "metadata": {},
     "source": [
      "Appending Strings to Files "
     ]
    },
    {
     "cell_type": "markdown",
     "metadata": {},
     "source": [
      "If the string `'a'` is provided as second argument of `open(...)`, then invoking the `write(...)` method on the returned `file` instance will __append__ a string of characters to any __preexisting__ data the opened file contains."
     ]
    },
    {
     "cell_type": "code",
     "collapsed": false,
     "input": [
      "# Open the previously created \"platonicWisdom\" file with append access. \n",
      "# The file already exists and its contents will be appended to. \n",
      "# The open(...) function returns an instance of the file class, which \n",
      "# is assigned the identifier \"fileForAppending\"\n",
      "fileForAppending = open('platonicWisdom', 'a')\n",
      "\n",
      "# Create a str-type variable by assign a str-type literal.\n",
      "# Note that an explicit newline ('\\n') character is included.\n",
      "anotherPlatoQuote = '\"Wise men speak because they have something to say; Fools because they have to say something.\"\\n'\n",
      "\n",
      "# Invoke the write(...) method to insert a string of characters into \n",
      "# the file. \n",
      "# A str-type variable is provided as the single required argument.\n",
      "fileForAppending.write(anotherPlatoQuote)\n",
      "\n",
      "# Invoke the close() method to ensure that all output operations are completed\n",
      "# and acquired system resources are released.\n",
      "fileForAppending.close()"
     ],
     "language": "python",
     "metadata": {},
     "outputs": [],
     "prompt_number": 167
    },
    {
     "cell_type": "heading",
     "level": 3,
     "metadata": {},
     "source": [
      "Writing *Multiple Lines* to files."
     ]
    },
    {
     "cell_type": "markdown",
     "metadata": {},
     "source": [
      "The `file` class provides the `writelines(...)` method to write (or append, depending on the target file's access mode) multiple strings of characters to a file. \n",
      "\n",
      "The method __requires__ a single argument, which should be a _Python_ sequence-type containing __only__ `str`-type elements.\n",
      "\n",
      "The operation of `writelines(...)` is equivalent to iterating over the elements of the method argument and repeatedly invoking the `write(...)` method for each one. This means that (despite the slightly misleading method identifier) newlines must __still__ be explicitly specified if they are required."
     ]
    },
    {
     "cell_type": "code",
     "collapsed": false,
     "input": [
      "help(file.writelines)"
     ],
     "language": "python",
     "metadata": {},
     "outputs": [
      {
       "output_type": "stream",
       "stream": "stdout",
       "text": [
        "Help on method_descriptor:\n",
        "\n",
        "writelines(...)\n",
        "    writelines(sequence_of_strings) -> None.  Write the strings to the file.\n",
        "    \n",
        "    Note that newlines are not added.  The sequence can be any iterable object\n",
        "    producing strings. This is equivalent to calling write() for each string.\n",
        "\n"
       ]
      }
     ],
     "prompt_number": 168
    },
    {
     "cell_type": "code",
     "collapsed": false,
     "input": [
      "# Assign a literal list containing a single str-type element to the \n",
      "# identifier \"theBestPlatoQuotes\"\n",
      "theBestPlatoQuotes = ['\"I have hardly ever known a mathematician who was capable of reasoning.\"\\n']\n",
      "\n",
      "# Use the append(...) method provided by list to append two more \n",
      "# self-evidently wise Plato quotes.\n",
      "theBestPlatoQuotes.append('\"Honesty is for the most part less profitable than dishonesty.\"\\n')\n",
      "theBestPlatoQuotes.append('\"He was a wise man who invented beer.\"\\n')\n",
      "\n",
      "# Open the previously created \"platonicWisdom\" file with append \n",
      "# access.\n",
      "fileForAppending = open('platonicWisdom', 'a')\n",
      "\n",
      "# Invoke the writelines(...) method to insert multiple strings of characters \n",
      "# into the file. \n",
      "# A list of str-type variables is provided as the single required argument.\n",
      "fileForAppending.writelines(theBestPlatoQuotes)\n",
      "\n",
      "# Invoke the close() method to ensure that all output operations are completed\n",
      "# and acquired system resources are released.\n",
      "fileForAppending.close()"
     ],
     "language": "python",
     "metadata": {},
     "outputs": [],
     "prompt_number": 169
    },
    {
     "cell_type": "heading",
     "level": 2,
     "metadata": {},
     "source": [
      "Reading from Files"
     ]
    },
    {
     "cell_type": "heading",
     "level": 3,
     "metadata": {},
     "source": [
      "Reading Entire Files"
     ]
    },
    {
     "cell_type": "markdown",
     "metadata": {},
     "source": [
      "An arbitrary number of bytes can be extracted from a readable file using the `read(...)` method provided by the `file` class. When invoked with no arguments, the `read(...)` method extracts the __entire__ file contents.\n",
      "\n",
      "The `read(...)` method __returns__ a `str`-type instance containing the extracted characters."
     ]
    },
    {
     "cell_type": "code",
     "collapsed": false,
     "input": [
      "help(file.read)"
     ],
     "language": "python",
     "metadata": {},
     "outputs": [
      {
       "output_type": "stream",
       "stream": "stdout",
       "text": [
        "Help on method_descriptor:\n",
        "\n",
        "read(...)\n",
        "    read([size]) -> read at most size bytes, returned as a string.\n",
        "    \n",
        "    If the size argument is negative or omitted, read until EOF is reached.\n",
        "    Notice that when in non-blocking mode, less data than what was requested\n",
        "    may be returned, even if no size parameter was given.\n",
        "\n"
       ]
      }
     ],
     "prompt_number": 151
    },
    {
     "cell_type": "heading",
     "level": 3,
     "metadata": {},
     "source": [
      "Reading _Unformatted_ Blocks of Data"
     ]
    },
    {
     "cell_type": "markdown",
     "metadata": {},
     "source": [
      "The `read(...)` method also supports an optional `int`-type argument, that can be used to specify the number of bytes that should be extracted. \n",
      "\n",
      "In addition to providing a straightforward way to extract the entire contents of a file, the `read(...)` method also provides flexible, __unformatted__ data extraction from __binary__ and __textual__ files. Moreover, many common textual encoding conventions like _UTF-8_ or _ASCII_ use a single byte to represent a single character. For data that are encoded in this manner, supplying an argument to `read(...)` enables a __specific number of characters__ to be extracted from a textual file. \n",
      "\n",
      "The `file` class provides a `seek(...)` method that __requires__ a single `int`-type argument that specifies an offset (number of __bytes__) for the start position used by any subsequent invocations of `read(...)`. The interpretation of the supplied offset can be specified using an __optional__, second `int`-type argument. \n",
      "\n",
      "* If a (default) value of `0` is provided then the offset is applied relative to the __beginning__ of the file.    \n",
      "* If a value of `1` is provided then the offset is applied relative to the __current position__ in the file i.e. the __byte__ immediately after that extracted by the previous read-type operation on the file.\n",
      "* If a value of `2` is provided then the offset is applied relative to the __end__ the file. In this case the most supplied offest should probably be negative."
     ]
    },
    {
     "cell_type": "code",
     "collapsed": false,
     "input": [
      "help(file.seek)"
     ],
     "language": "python",
     "metadata": {},
     "outputs": [
      {
       "output_type": "stream",
       "stream": "stdout",
       "text": [
        "Help on method_descriptor:\n",
        "\n",
        "seek(...)\n",
        "    seek(offset[, whence]) -> None.  Move to new file position.\n",
        "    \n",
        "    Argument offset is a byte count.  Optional argument whence defaults to\n",
        "    0 (offset from start of file, offset should be >= 0); other values are 1\n",
        "    (move relative to current position, positive or negative), and 2 (move\n",
        "    relative to end of file, usually negative, although many platforms allow\n",
        "    seeking beyond the end of a file).  If the file is opened in text mode,\n",
        "    only offsets returned by tell() are legal.  Use of other offsets causes\n",
        "    undefined behavior.\n",
        "    Note that not all file objects are seekable.\n",
        "\n"
       ]
      }
     ],
     "prompt_number": 173
    },
    {
     "cell_type": "code",
     "collapsed": false,
     "input": [
      "# Open the previously created \"platonicWisdom\" file with read access. \n",
      "# Any attempts to write to the file will fail and raise an IOError instance. \n",
      "# The open(...) function returns an instance of the file class, which \n",
      "# is assigned the identifier \"fileForAppending\"\n",
      "fileForReading = open('platonicWisdom', 'r')\n",
      "\n",
      "try :\n",
      "    # Attempt to perform a write operation on a file opened in read-only mode\n",
      "    fileForReading.write(\"The only true wisdom is in knowing you know nothing.\")\n",
      "except IOError as failedWrite:\n",
      "    print \"Write attempt:\\n\",failedWrite.message,\"\\n\"\n",
      "    \n",
      "# Invoke the read(...) method with no arguments. This returns a string\n",
      "# containing the entire file contents.\n",
      "print \"Entire file:\\n\", fileForReading.read()\n",
      "\n",
      "# Invoke the seek(...) method with a single argument such that subsequent\n",
      "# invocations of read(...) will begin at the 27th byte of the file.\n",
      "fileForReading.seek(27)\n",
      "\n",
      "# Invoke the read(...) method supplying an int-type argument to\n",
      "# read a sequence of 9 bytes i.e. bytes 27-36, from the file.\n",
      "# Print the returned string containing the extracted sequence.\n",
      "print \"Important part:\\n\", fileForReading.read(9), \"\\n\"\n",
      "\n",
      "# Invoke the seek(...) method with two arguments such that subsequent\n",
      "# invocations of read(...) will begin 7 bytes before the end of the file. \n",
      "fileForReading.seek(-7, 2)\n",
      "\n",
      "# Read and print sequence of 4 bytes from the file\n",
      "print \"Most important part:\\n\", fileForReading.read(4), \"\\n\"\n",
      "\n",
      "# Invoke the close() method to ensure that acquired system \n",
      "# resources are released.\n",
      "fileForReading.close()"
     ],
     "language": "python",
     "metadata": {},
     "outputs": [
      {
       "output_type": "stream",
       "stream": "stdout",
       "text": [
        "Write attempt:\n",
        "File not open for writing \n",
        "\n",
        "Entire file:\n",
        "\"The beginning is the most important part of the work.\"\n",
        "\"Wise men speak because they have something to say; Fools because they have to say something.\"\n",
        "\"I have hardly ever known a mathematician who was capable of reasoning.\"\n",
        "\"Honesty is for the most part less profitable than dishonesty.\"\n",
        "\"He was a wise man who invented beer.\"\n",
        "\n",
        "Important part:\n",
        "important \n",
        "\n",
        "Most important part:\n",
        "beer \n",
        "\n"
       ]
      }
     ],
     "prompt_number": 188
    },
    {
     "cell_type": "heading",
     "level": 3,
     "metadata": {},
     "source": [
      "Reading Files Line-by-line"
     ]
    },
    {
     "cell_type": "markdown",
     "metadata": {},
     "source": [
      "The `file` class also provides methods that enable __formatted__ data extraction. The `readline()` method, which extracts a __single line__ from a textual file and returns it as a `str`-type object."
     ]
    },
    {
     "cell_type": "code",
     "collapsed": false,
     "input": [
      "help(file.readline)"
     ],
     "language": "python",
     "metadata": {},
     "outputs": [
      {
       "output_type": "stream",
       "stream": "stdout",
       "text": [
        "Help on method_descriptor:\n",
        "\n",
        "readline(...)\n",
        "    readline([size]) -> next line from the file, as a string.\n",
        "    \n",
        "    Retain newline.  A non-negative size argument limits the maximum\n",
        "    number of bytes to return (an incomplete line may be returned then).\n",
        "    Return an empty string at EOF.\n",
        "\n"
       ]
      }
     ],
     "prompt_number": 152
    },
    {
     "cell_type": "code",
     "collapsed": false,
     "input": [
      "# Open the previously created \"platonicWisdom\" file with read access. \n",
      "fileForReading = open('platonicWisdom', 'r')\n",
      "\n",
      "# Extract a single line from the file. The extracted line is returned\n",
      "# as a str-type object.\n",
      "firstLine = fileForReading.readline()\n",
      "\n",
      "print \"First Line:\\n\", firstLine\n",
      "\n",
      "# Subsequent calls to readline() will start from the current position\n",
      "# in the file, so to extract the second line, simply invoke readline()\n",
      "# again.\n",
      "secondLine = fileForReading.readline()\n",
      "\n",
      "print \"Second Line:\\n\", secondLine\n",
      "\n",
      "# Invoke the close() method to ensure that acquired system \n",
      "# resources are released.\n",
      "fileForReading.close()"
     ],
     "language": "python",
     "metadata": {},
     "outputs": [
      {
       "output_type": "stream",
       "stream": "stdout",
       "text": [
        "First Line:\n",
        "\"The beginning is the most important part of the work.\"\n",
        "\n",
        "Second Line:\n",
        "\"Wise men speak because they have something to say; Fools because they have to say something.\"\n",
        "\n"
       ]
      }
     ],
     "prompt_number": 191
    },
    {
     "cell_type": "markdown",
     "metadata": {},
     "source": [
      "Multiple lines can be extracted from a textual file using the `readlines()` method that is provided by the `file` class. The extracted text is returned as a `list` of `str`-type objects, with each element corresponding to a single extracted line."
     ]
    },
    {
     "cell_type": "code",
     "collapsed": false,
     "input": [
      "help(file.readlines)"
     ],
     "language": "python",
     "metadata": {},
     "outputs": [
      {
       "output_type": "stream",
       "stream": "stdout",
       "text": [
        "Help on method_descriptor:\n",
        "\n",
        "readlines(...)\n",
        "    readlines([size]) -> list of strings, each a line from the file.\n",
        "    \n",
        "    Call readline() repeatedly and return a list of the lines so read.\n",
        "    The optional size argument, if given, is an approximate bound on the\n",
        "    total number of bytes in the lines returned.\n",
        "\n"
       ]
      }
     ],
     "prompt_number": 153
    },
    {
     "cell_type": "code",
     "collapsed": false,
     "input": [
      "# Open the previously created \"platonicWisdom\" file with read access. \n",
      "fileForReading = open('platonicWisdom', 'r')\n",
      "\n",
      "# Invoke the readlines() method to extract the file contents as\n",
      "# a list of str-type instances.\n",
      "allTheQuotes = fileForReading.readlines()\n",
      "\n",
      "print \"List of Quotes:\\n\", allTheQuotes, \"\\n\"\n",
      "\n",
      "# Use the list indexing syntax to extract a subset of the extracted\n",
      "# lines. \n",
      "# Note that the built-in len(...) function returns an int-type\n",
      "# value corresponding to the number of elements comprising the required\n",
      "# sequence-type argument.\n",
      "selectedQuotes = allTheQuotes[len(allTheQuotes) - 3:len(allTheQuotes)]\n",
      "\n",
      "print \"Selected Quotes:\"\n",
      "for quote in selectedQuotes :\n",
      "    print u\"\\u03DF\", quote\n",
      "    \n",
      "# Invoke the close() method to ensure that acquired system \n",
      "# resources are released.\n",
      "fileForReading.close()"
     ],
     "language": "python",
     "metadata": {},
     "outputs": [
      {
       "output_type": "stream",
       "stream": "stdout",
       "text": [
        "List of Quotes:\n",
        "['\"The beginning is the most important part of the work.\"\\n', '\"Wise men speak because they have something to say; Fools because they have to say something.\"\\n', '\"I have hardly ever known a mathematician who was capable of reasoning.\"\\n', '\"Honesty is for the most part less profitable than dishonesty.\"\\n', '\"He was a wise man who invented beer.\"\\n'] \n",
        "\n",
        "Selected Quotes:\n",
        "\u03df \"I have hardly ever known a mathematician who was capable of reasoning.\"\n",
        "\n",
        "\u03df \"Honesty is for the most part less profitable than dishonesty.\"\n",
        "\n",
        "\u03df \"He was a wise man who invented beer.\"\n",
        "\n"
       ]
      }
     ],
     "prompt_number": 201
    },
    {
     "cell_type": "markdown",
     "metadata": {},
     "source": [
      "The `file` class also enables the __individual lines__ of a textual file to be __iterated over__ using a `for`-loop. By performing behind-the-scenes buffering operations, this interface can be _more efficient_ than using the `readlines(...)` method. \n",
      "\n",
      "The iterable interface provided by the `file` class also enables `file` instances to be used in __list-comprehensions__.  "
     ]
    },
    {
     "cell_type": "code",
     "collapsed": false,
     "input": [
      "# Open the previously created \"platonicWisdom\" file with read access. \n",
      "platonicQuotes = open('platonicWisdom', 'r')\n",
      "\n",
      "print \"Platonic Quotes:\"\n",
      "# Use the iterable interface provided by the file class to loop over\n",
      "# the individual lines in the file and print each one.\n",
      "for platonicQuote in platonicQuotes :\n",
      "    print platonicQuote\n",
      "\n",
      "# Invoke the seek(...) method with a single argument specifying a\n",
      "# zero-byte offset to return to the beginning of the file. \n",
      "platonicQuotes.seek(0)\n",
      "\n",
      "# Use the list-comprehension syntax to generate a new list containing\n",
      "# the quotes prepended with a bullet.\n",
      "bulletedQuotes = [(u\"\\u03DF \" + quote) for quote in platonicQuotes]\n",
      "\n",
      "print \"Bulleted Platonic Quotes:\"\n",
      "# Loop over the generated list of bulletes quotes and print each one\n",
      "for bulletedQuote in bulletedQuotes :\n",
      "    print bulletedQuote\n",
      "\n",
      "# Invoke the close() method to ensure that acquired system \n",
      "# resources are released. \n",
      "platonicQuotes.close()"
     ],
     "language": "python",
     "metadata": {},
     "outputs": [
      {
       "output_type": "stream",
       "stream": "stdout",
       "text": [
        "Platonic Quotes:\n",
        "\"The beginning is the most important part of the work.\"\n",
        "\n",
        "\"Wise men speak because they have something to say; Fools because they have to say something.\"\n",
        "\n",
        "\"I have hardly ever known a mathematician who was capable of reasoning.\"\n",
        "\n",
        "\"Honesty is for the most part less profitable than dishonesty.\"\n",
        "\n",
        "\"He was a wise man who invented beer.\"\n",
        "\n",
        "Bulleted Platonic Quotes:\n",
        "\u03df \"The beginning is the most important part of the work.\"\n",
        "\n",
        "\u03df \"Wise men speak because they have something to say; Fools because they have to say something.\"\n",
        "\n",
        "\u03df \"I have hardly ever known a mathematician who was capable of reasoning.\"\n",
        "\n",
        "\u03df \"Honesty is for the most part less profitable than dishonesty.\"\n",
        "\n",
        "\u03df \"He was a wise man who invented beer.\"\n",
        "\n"
       ]
      }
     ],
     "prompt_number": 209
    },
    {
     "cell_type": "heading",
     "level": 1,
     "metadata": {},
     "source": [
      "Multiline Comments and Automatic Documentation"
     ]
    },
    {
     "cell_type": "heading",
     "level": 2,
     "metadata": {},
     "source": [
      "Multiline Comments"
     ]
    },
    {
     "cell_type": "markdown",
     "metadata": {},
     "source": [
      "Although the familiar single-line comments that begin with a `#` token are useful for annotating short snippets of code, it can become cumbersome if more detailed multi-line comments are required.\n",
      "\n",
      "Fortunately, Python also provides syntax for delimiting multi-line comments. Multi-line comment blocks begin and end with __matching pairs__ of series of __three adjacent quote characters__ i.e. `'''` __or__ `\"\"\"`."
     ]
    },
    {
     "cell_type": "code",
     "collapsed": false,
     "input": [
      "'''This\n",
      "Comment\n",
      "Spans\n",
      "Multiple\n",
      "Lines'''\n",
      "\n",
      "\"\"\"So \n",
      "Does\n",
      "This\n",
      "One\"\"\"\n",
      "\n",
      "# This is a single line comment\n",
      "\n",
      "print \"No comment!\""
     ],
     "language": "python",
     "metadata": {},
     "outputs": []
    },
    {
     "cell_type": "heading",
     "level": 2,
     "metadata": {},
     "source": [
      "Automatic documentation"
     ]
    },
    {
     "cell_type": "heading",
     "level": 3,
     "metadata": {},
     "source": [
      "Inline documentation and the `help(...)` function"
     ]
    },
    {
     "cell_type": "markdown",
     "metadata": {},
     "source": [
      "Python's `help(...)` function is an invaluable aid when learning to use a new module or language feature, but it is not magic! It is the __module programmer's responsibility__ to provide information that is output by `help(...)` and associate it with a particular symbol. The *Python* language provides the `pydoc` module to achieve this. See the [online reference](https://docs.python.org/2/library/pydoc.html) for `pydoc` for more information."
     ]
    },
    {
     "cell_type": "heading",
     "level": 4,
     "metadata": {},
     "source": [
      "Providing help text for functions"
     ]
    },
    {
     "cell_type": "markdown",
     "metadata": {},
     "source": [
      "Help text can be associated with Python __functions__ by providing a multiline comment block __immediately after__ the function definition clause."
     ]
    },
    {
     "cell_type": "code",
     "collapsed": false,
     "input": [
      "def testDocs(stringArgument) :\n",
      "    '''The testDocs function is designed to test the automatic documentation facilities provided \n",
      "    by the pydoc module. It also prints a string echoing its own invocation.\n",
      "    \n",
      "    ARGUMENTS:\n",
      "    ==========\n",
      "    The function requires a single argument that should be of type str.'''\n",
      "    # Now begin the function logic...\n",
      "    print \"I was invoked using testDocs(\" + stringArgument + \").\\n\"\n"
     ],
     "language": "python",
     "metadata": {},
     "outputs": []
    },
    {
     "cell_type": "code",
     "collapsed": false,
     "input": [
      "# Verify that the function still behaves as expected\n",
      "testDocs(\"test\")\n",
      "# Print the function help\n",
      "help(testDocs)"
     ],
     "language": "python",
     "metadata": {},
     "outputs": []
    },
    {
     "cell_type": "heading",
     "level": 4,
     "metadata": {},
     "source": [
      "Composite Python entities"
     ]
    },
    {
     "cell_type": "markdown",
     "metadata": {},
     "source": [
      "Help text for composite Python entities like __*classes*__ can also defined by providing a multiline comment block __immediately after__ opening clause. An alternative approach, which also applies to __*modules*__ involves definition of a `str`-type member datum (also called an __attribute__) of the entity with the special identifier \"`__doc__`\"."
     ]
    },
    {
     "cell_type": "heading",
     "level": 1,
     "metadata": {},
     "source": [
      "Object Oriented Programming in Python"
     ]
    },
    {
     "cell_type": "heading",
     "level": 2,
     "metadata": {},
     "source": [
      "Class Definitions"
     ]
    },
    {
     "cell_type": "markdown",
     "metadata": {},
     "source": [
      "A simple class definition in Python begins with a clause comprising the __keyword__ `class`, an __identifier__ that names the class and a __colon character__ \"`:`\". The opening clause is immediately followed by an indented code block the contains declarations and deninitions of all the class member data and methods (often described as __attributes__ by the Python Online Documentation). "
     ]
    },
    {
     "cell_type": "heading",
     "level": 3,
     "metadata": {},
     "source": [
      "Member data definitions"
     ]
    },
    {
     "cell_type": "markdown",
     "metadata": {},
     "source": [
      "Class member data definitions use identical syntax to simple Python variable declarations."
     ]
    },
    {
     "cell_type": "heading",
     "level": 3,
     "metadata": {},
     "source": [
      "Method definitions"
     ]
    },
    {
     "cell_type": "markdown",
     "metadata": {},
     "source": [
      "Class methods are defined using an identical syntax to ordinary Python functions with one caveat. When a __class method__ is invoked, a reference to the class instance upon which it is invoked (analogous to the `this` pointer in C++) is __automatically__ passed as the __first argument__. The caller __does not__ need to explicitly provide this argument. Nonetheless, the method definition __must__ be designed to accept the reference as its first argument. __By convention__, the identifier `self` is used for this argument. \n",
      "\n",
      "Python __does not__ support method or function __overloading__.\n",
      "\n",
      "__Constructors__ for Python classes are provided by defining a __class method__ with the special identifier `__init__`. "
     ]
    },
    {
     "cell_type": "code",
     "collapsed": false,
     "input": [
      "\"\"\"\n",
      "Define a class with the identifier Snake that models a generic snake.\n",
      "Snake does not derive from any base classes.\n",
      "\n",
      "Class definition begins with an opening clause comprising the keyword class, an \n",
      "arbitrary identifier and a colon character.\n",
      "\"\"\"\n",
      "class Snake :\n",
      "    # Begin indented code block to encapsulate the body of the class definition\n",
      "    \"\"\"\n",
      "    The Snake class models a generic snake.\n",
      "    It provides attributes specifying the snake's length and whether its bite is venomous.\n",
      "    \"\"\"\n",
      "    \n",
      "    # MEMBER DATA DEFINITIONS\n",
      "    \n",
      "    # Length of the python in metres \n",
      "    length = 1.\n",
      "    \n",
      "    # Specifies whether the python's bite is venomous - True if it is, False otherwise\n",
      "    venomous = False\n",
      "    \n",
      "    # METHOD DEFINITIONS\n",
      "    \n",
      "    \"\"\"\n",
      "    A reference to the class instance upon which the method is invoked will\n",
      "    automatically be passed as the first method argument. By default, the identifier\n",
      "    \"self\" is associated with this automatically passed reference.\n",
      "    \"\"\"\n",
      "    def __init__(self, length, venomous) :\n",
      "        \"\"\"Constructor of the Snake class.\"\"\"\n",
      "        # Initialize member data\n",
      "        self.length = length\n",
      "        self.venomous = venomous\n",
      "    \n",
      "    def getLengthInMetres(self) :\n",
      "        \"\"\"Returns the length of the Python in metres.\"\"\"\n",
      "        return self.length\n",
      "    \n",
      "    def isVenomous(self) :\n",
      "        \"\"\"Returns True if the python has a venomous bite and False otherwise\"\"\"\n",
      "        return self.venomous\n",
      "    \n",
      "    def description(self) :\n",
      "        \"\"\"Prints a textual description of the python.\"\"\"\n",
      "        print \"I am a \" + str(self.getLengthInMetres()) + \"m long \" + str(\"venomous \" if self.isVenomous() else \"\") + \"snake.\"\n",
      "    \n",
      "# Test the functionality of the help(...) function\n",
      "help(Snake)"
     ],
     "language": "python",
     "metadata": {},
     "outputs": []
    },
    {
     "cell_type": "heading",
     "level": 2,
     "metadata": {},
     "source": [
      "Instantiation"
     ]
    },
    {
     "cell_type": "markdown",
     "metadata": {},
     "source": [
      "Python classes are instantiated using the __*function call syntax*__. This syntax consists of the class identifier, followed by a parenthesized list of class constructor arguments. The instantiated object can then be assigned to a variable allowing its attributes to be accessed."
     ]
    },
    {
     "cell_type": "code",
     "collapsed": false,
     "input": [
      "\"\"\"\n",
      "Instantiate a Snake object - Note that explicit provision of\n",
      "the \"self\" argument of the constructor is not required.\n",
      "\"\"\"\n",
      "snake = Snake(2.0, False)\n",
      "# Invoke the description method on the simplePython instance\n",
      "snake.description()"
     ],
     "language": "python",
     "metadata": {},
     "outputs": []
    },
    {
     "cell_type": "heading",
     "level": 2,
     "metadata": {},
     "source": [
      "Inheritence"
     ]
    },
    {
     "cell_type": "markdown",
     "metadata": {},
     "source": [
      "To define a class that derives from __one or more__ parent classes, the class identifier that forms part of the opening clause of the definition should be __immediately__ followed by a parenthesized, comma-separated list of the identifiers of the parent classes.\n",
      "\n",
      "Parent class methods can be __overridden__ by defining a method with an __identical identifier__ within the derived class.\n",
      "\n",
      "The `__init__()` method of a derived class must explicitly call the `__init__()` methods of all its parent classes. The call to each of the parent class `__init__()` methods should be explicitly qualified using the parent class type-identifiers.\n",
      "\n",
      "__NOTE:__ In this context, the `__init__()` methods of the parent class __behave like normal functions__. This means that a reference to the current class instance __will not be automatically passed__. Instead the `__init__()` method of the derived __must__ explicitly pass a reference to the derived class when calling the parent class's `__init__()` method."
     ]
    },
    {
     "cell_type": "code",
     "collapsed": false,
     "input": [
      "class Python(Snake) :\n",
      "    \"\"\"\n",
      "    The Python class inherits from the Snake class and models a python.\n",
      "    It overrides the isVenomous() and description() methods provided by \n",
      "    the Snake class.\n",
      "    \"\"\"\n",
      "    def __init__(self, length) :\n",
      "        \"\"\"\n",
      "        Constructor of the Python class.\n",
      "        \"\"\"\n",
      "        \n",
      "        \"\"\"\n",
      "        Initialize the base class. \n",
      "        * Explicitly qualify the method call by prepending with \"Snake.\".\n",
      "        * A reference to the current class instance must be explicitly passed\n",
      "          as the first argument.\n",
      "        * No pythons are venomous so pass False as the third argument\n",
      "        \"\"\"\n",
      "        Snake.__init__(self, length, False)\n",
      "        # No member data to initialize\n",
      "    \n",
      "    # Override isVenomous to always return False.\n",
      "    def isVenomous(self) :\n",
      "        \"\"\"Always returns false. No pythons are venomous.\"\"\"\n",
      "        return False\n",
      "    \n",
      "    # Override description to print a more appropriate message.\n",
      "    def description(self) :\n",
      "        \"\"\"Prints a textual description of the python.\"\"\"\n",
      "        print \"I am a \" + str(self.getLengthInMetres()) + \"m long python. My hiss is worse than my bite!\"\n",
      "\n",
      "help(Python)"
     ],
     "language": "python",
     "metadata": {},
     "outputs": []
    },
    {
     "cell_type": "code",
     "collapsed": false,
     "input": [
      "pythonInstance = Python(2.0)"
     ],
     "language": "python",
     "metadata": {},
     "outputs": []
    },
    {
     "cell_type": "code",
     "collapsed": false,
     "input": [
      "pythonInstance.description()"
     ],
     "language": "python",
     "metadata": {},
     "outputs": []
    },
    {
     "cell_type": "heading",
     "level": 1,
     "metadata": {},
     "source": [
      "SciPy"
     ]
    },
    {
     "cell_type": "code",
     "collapsed": false,
     "input": [
      "import scipy"
     ],
     "language": "python",
     "metadata": {},
     "outputs": [],
     "prompt_number": 11
    },
    {
     "cell_type": "code",
     "collapsed": false,
     "input": [
      "import numpy"
     ],
     "language": "python",
     "metadata": {},
     "outputs": [],
     "prompt_number": 12
    },
    {
     "cell_type": "code",
     "collapsed": false,
     "input": [
      "from scipy import fftpack"
     ],
     "language": "python",
     "metadata": {},
     "outputs": [],
     "prompt_number": 10
    },
    {
     "cell_type": "code",
     "collapsed": false,
     "input": [
      "numSamples = 100."
     ],
     "language": "python",
     "metadata": {},
     "outputs": [],
     "prompt_number": 52
    },
    {
     "cell_type": "code",
     "collapsed": false,
     "input": [
      "xValues = numpy.arange(0, 2*numpy.pi, numpy.pi/numSamples)"
     ],
     "language": "python",
     "metadata": {},
     "outputs": [],
     "prompt_number": 53
    },
    {
     "cell_type": "code",
     "collapsed": false,
     "input": [
      "yValues = numpy.sin(2*xValues) + numpy.sin(5*xValues)"
     ],
     "language": "python",
     "metadata": {},
     "outputs": [],
     "prompt_number": 54
    },
    {
     "cell_type": "code",
     "collapsed": false,
     "input": [
      "pyplot.plot(xValues, yValues)"
     ],
     "language": "python",
     "metadata": {},
     "outputs": [
      {
       "metadata": {},
       "output_type": "pyout",
       "prompt_number": 57,
       "text": [
        "[<matplotlib.lines.Line2D at 0x10975d310>]"
       ]
      },
      {
       "metadata": {},
       "output_type": "display_data",
       "png": "[encoded data removed]",
       "text": [
        "<matplotlib.figure.Figure at 0x1096effd0>"
       ]
      }
     ],
     "prompt_number": 57
    },
    {
     "cell_type": "code",
     "collapsed": false,
     "input": [
      "fftVals = scipy.fftpack.fft(yValues)"
     ],
     "language": "python",
     "metadata": {},
     "outputs": [],
     "prompt_number": 58
    },
    {
     "cell_type": "code",
     "collapsed": false,
     "input": [
      "powerSpectrum = numpy.abs(fftVals)"
     ],
     "language": "python",
     "metadata": {},
     "outputs": [],
     "prompt_number": 59
    },
    {
     "cell_type": "code",
     "collapsed": false,
     "input": [
      "numpy.shape(fftVals)"
     ],
     "language": "python",
     "metadata": {},
     "outputs": [
      {
       "metadata": {},
       "output_type": "pyout",
       "prompt_number": 60,
       "text": [
        "(200,)"
       ]
      }
     ],
     "prompt_number": 60
    },
    {
     "cell_type": "code",
     "collapsed": false,
     "input": [
      "frequencies = numpy.arange(0,numSamples/2.0,1)"
     ],
     "language": "python",
     "metadata": {},
     "outputs": [],
     "prompt_number": 62
    },
    {
     "cell_type": "code",
     "collapsed": false,
     "input": [
      "pyplot.plot(frequencies, powerSpectrum[0:numSamples/2.0])"
     ],
     "language": "python",
     "metadata": {},
     "outputs": [
      {
       "metadata": {},
       "output_type": "pyout",
       "prompt_number": 63,
       "text": [
        "[<matplotlib.lines.Line2D at 0x109773b10>]"
       ]
      },
      {
       "metadata": {},
       "output_type": "display_data",
       "png": "[encoded data removed]",
       "text": [
        "<matplotlib.figure.Figure at 0x109740a90>"
       ]
      }
     ],
     "prompt_number": 63
    },
    {
     "cell_type": "code",
     "collapsed": false,
     "input": [
      "help(pyplot.gcf)"
     ],
     "language": "python",
     "metadata": {},
     "outputs": [
      {
       "output_type": "stream",
       "stream": "stdout",
       "text": [
        "Help on function gcf in module matplotlib.pyplot:\n",
        "\n",
        "gcf()\n",
        "    Return a reference to the current figure.\n",
        "\n"
       ]
      }
     ],
     "prompt_number": 211
    },
    {
     "cell_type": "code",
     "collapsed": false,
     "input": [],
     "language": "python",
     "metadata": {},
     "outputs": []
    }
   ],
   "metadata": {}
  }
 ]
}
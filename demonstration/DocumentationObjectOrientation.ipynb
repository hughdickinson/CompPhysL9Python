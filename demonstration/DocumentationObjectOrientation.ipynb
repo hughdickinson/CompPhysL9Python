{
 "metadata": {
  "name": "",
  "signature": "sha256:a64aec7b5ce8704504f7e2d3477ad79c608e74fa9ffcb37a0925b934c33a6cae"
 },
 "nbformat": 3,
 "nbformat_minor": 0,
 "worksheets": [
  {
   "cells": [
    {
     "cell_type": "heading",
     "level": 1,
     "metadata": {},
     "source": [
      "Multiline Comments and Automatic Documentation"
     ]
    },
    {
     "cell_type": "heading",
     "level": 2,
     "metadata": {},
     "source": [
      "Multiline Comments"
     ]
    },
    {
     "cell_type": "markdown",
     "metadata": {},
     "source": [
      "Although the familiar single-line comments that begin with a `#` token are useful for annotating short snippets of code, it can become cumbersome if more detailed multi-line comments are required.\n",
      "\n",
      "Fortunately, Python also provides syntax for delimiting multi-line comments. Multi-line comment blocks begin and end with __matching pairs__ of series of __three adjacent quote characters__ i.e. `'''` __or__ `\"\"\"`."
     ]
    },
    {
     "cell_type": "code",
     "collapsed": false,
     "input": [
      "'''This\n",
      "Comment\n",
      "Spans\n",
      "Multiple\n",
      "Lines'''\n",
      "\n",
      "\"\"\"So \n",
      "Does\n",
      "This\n",
      "One\"\"\"\n",
      "\n",
      "# This is a single line comment\n",
      "\n",
      "print \"No comment!\""
     ],
     "language": "python",
     "metadata": {},
     "outputs": []
    },
    {
     "cell_type": "heading",
     "level": 2,
     "metadata": {},
     "source": [
      "Automatic documentation"
     ]
    },
    {
     "cell_type": "heading",
     "level": 3,
     "metadata": {},
     "source": [
      "Inline documentation and the `help(...)` function"
     ]
    },
    {
     "cell_type": "markdown",
     "metadata": {},
     "source": [
      "Python's `help(...)` function is an invaluable aid when learning to use a new module or language feature, but it is not magic! It is the __module programmer's responsibility__ to provide information that is output by `help(...)` and associate it with a particular symbol. The *Python* language provides the `pydoc` module to achieve this. See the [online reference](https://docs.python.org/2/library/pydoc.html) for `pydoc` for more information."
     ]
    },
    {
     "cell_type": "heading",
     "level": 4,
     "metadata": {},
     "source": [
      "Providing help text for functions"
     ]
    },
    {
     "cell_type": "markdown",
     "metadata": {},
     "source": [
      "Help text can be associated with Python __functions__ by providing a multiline comment block __immediately after__ the function definition clause."
     ]
    },
    {
     "cell_type": "code",
     "collapsed": false,
     "input": [
      "def testDocs(stringArgument) :\n",
      "    '''The testDocs function is designed to test the automatic documentation facilities provided \n",
      "    by the pydoc module. It also prints a string echoing its own invocation.\n",
      "    \n",
      "    ARGUMENTS:\n",
      "    ==========\n",
      "    The function requires a single argument that should be of type str.'''\n",
      "    # Now begin the function logic...\n",
      "    print \"I was invoked using testDocs(\" + stringArgument + \").\\n\"\n"
     ],
     "language": "python",
     "metadata": {},
     "outputs": []
    },
    {
     "cell_type": "code",
     "collapsed": false,
     "input": [
      "# Verify that the function still behaves as expected\n",
      "testDocs(\"test\")\n",
      "# Print the function help\n",
      "help(testDocs)"
     ],
     "language": "python",
     "metadata": {},
     "outputs": []
    },
    {
     "cell_type": "heading",
     "level": 4,
     "metadata": {},
     "source": [
      "Composite Python entities"
     ]
    },
    {
     "cell_type": "markdown",
     "metadata": {},
     "source": [
      "Help text for composite Python entities like __*classes*__ can also defined by providing a multiline comment block __immediately after__ opening clause. An alternative approach, which also applies to __*modules*__ involves definition of a `str`-type member datum (also called an __attribute__) of the entity with the special identifier \"`__doc__`\"."
     ]
    },
    {
     "cell_type": "heading",
     "level": 1,
     "metadata": {},
     "source": [
      "Object Oriented Programming in Python"
     ]
    },
    {
     "cell_type": "heading",
     "level": 2,
     "metadata": {},
     "source": [
      "Class Definitions"
     ]
    },
    {
     "cell_type": "markdown",
     "metadata": {},
     "source": [
      "A simple class definition in Python begins with a clause comprising the __keyword__ `class`, an __identifier__ that names the class and a __colon character__ \"`:`\". The opening clause is immediately followed by an indented code block the contains declarations and deninitions of all the class member data and methods (often described as __attributes__ by the Python Online Documentation). "
     ]
    },
    {
     "cell_type": "heading",
     "level": 3,
     "metadata": {},
     "source": [
      "Member data definitions"
     ]
    },
    {
     "cell_type": "markdown",
     "metadata": {},
     "source": [
      "Class member data definitions use identical syntax to simple Python variable declarations."
     ]
    },
    {
     "cell_type": "heading",
     "level": 3,
     "metadata": {},
     "source": [
      "Method definitions"
     ]
    },
    {
     "cell_type": "markdown",
     "metadata": {},
     "source": [
      "Class methods are defined using an identical syntax to ordinary Python functions with one caveat. When a __class method__ is invoked, a reference to the class instance upon which it is invoked (analogous to the `this` pointer in C++) is __automatically__ passed as the __first argument__. The caller __does not__ need to explicitly provide this argument. Nonetheless, the method definition __must__ be designed to accept the reference as its first argument. __By convention__, the identifier `self` is used for this argument. \n",
      "\n",
      "Python __does not__ support method or function __overloading__.\n",
      "\n",
      "__Constructors__ for Python classes are provided by defining a __class method__ with the special identifier `__init__`. "
     ]
    },
    {
     "cell_type": "code",
     "collapsed": false,
     "input": [
      "\"\"\"\n",
      "Define a class with the identifier Snake that models a generic snake.\n",
      "Snake does not derive from any base classes.\n",
      "\n",
      "Class definition begins with an opening clause comprising the keyword class, an \n",
      "arbitrary identifier and a colon character.\n",
      "\"\"\"\n",
      "class Snake :\n",
      "    # Begin indented code block to encapsulate the body of the class definition\n",
      "    \"\"\"\n",
      "    The Snake class models a generic snake.\n",
      "    It provides attributes specifying the snake's length and whether its bite is venomous.\n",
      "    \"\"\"\n",
      "    \n",
      "    # MEMBER DATA DEFINITIONS\n",
      "    \n",
      "    # Length of the python in metres \n",
      "    length = 1.\n",
      "    \n",
      "    # Specifies whether the python's bite is venomous - True if it is, False otherwise\n",
      "    venomous = False\n",
      "    \n",
      "    # METHOD DEFINITIONS\n",
      "    \n",
      "    \"\"\"\n",
      "    A reference to the class instance upon which the method is invoked will\n",
      "    automatically be passed as the first method argument. By default, the identifier\n",
      "    \"self\" is associated with this automatically passed reference.\n",
      "    \"\"\"\n",
      "    def __init__(self, length, venomous) :\n",
      "        \"\"\"Constructor of the Snake class.\"\"\"\n",
      "        # Initialize member data\n",
      "        self.length = length\n",
      "        self.venomous = venomous\n",
      "    \n",
      "    def getLengthInMetres(self) :\n",
      "        \"\"\"Returns the length of the Python in metres.\"\"\"\n",
      "        return self.length\n",
      "    \n",
      "    def isVenomous(self) :\n",
      "        \"\"\"Returns True if the python has a venomous bite and False otherwise\"\"\"\n",
      "        return self.venomous\n",
      "    \n",
      "    def description(self) :\n",
      "        \"\"\"Prints a textual description of the python.\"\"\"\n",
      "        print \"I am a \" + str(self.getLengthInMetres()) + \"m long \" + str(\"venomous \" if self.isVenomous() else \"\") + \"snake.\"\n",
      "    \n",
      "# Test the functionality of the help(...) function\n",
      "help(Snake)"
     ],
     "language": "python",
     "metadata": {},
     "outputs": []
    },
    {
     "cell_type": "heading",
     "level": 2,
     "metadata": {},
     "source": [
      "Instantiation"
     ]
    },
    {
     "cell_type": "markdown",
     "metadata": {},
     "source": [
      "Python classes are instantiated using the __*function call syntax*__. This syntax consists of the class identifier, followed by a parenthesized list of class constructor arguments. The instantiated object can then be assigned to a variable allowing its attributes to be accessed."
     ]
    },
    {
     "cell_type": "code",
     "collapsed": false,
     "input": [
      "\"\"\"\n",
      "Instantiate a Snake object - Note that explicit provision of\n",
      "the \"self\" argument of the constructor is not required.\n",
      "\"\"\"\n",
      "snake = Snake(2.0, False)\n",
      "# Invoke the description method on the simplePython instance\n",
      "snake.description()"
     ],
     "language": "python",
     "metadata": {},
     "outputs": []
    },
    {
     "cell_type": "heading",
     "level": 2,
     "metadata": {},
     "source": [
      "Inheritence"
     ]
    },
    {
     "cell_type": "markdown",
     "metadata": {},
     "source": [
      "To define a class that derives from __one or more__ parent classes, the class identifier that forms part of the opening clause of the definition should be __immediately__ followed by a parenthesized, comma-separated list of the identifiers of the parent classes.\n",
      "\n",
      "Parent class methods can be __overridden__ by defining a method with an __identical identifier__ within the derived class.\n",
      "\n",
      "The `__init__()` method of a derived class must explicitly call the `__init__()` methods of all its parent classes. The call to each of the parent class `__init__()` methods should be explicitly qualified using the parent class type-identifiers.\n",
      "\n",
      "__NOTE:__ In this context, the `__init__()` methods of the parent class __behave like normal functions__. This means that a reference to the current class instance __will not be automatically passed__. Instead the `__init__()` method of the derived __must__ explicitly pass a reference to the derived class when calling the parent class's `__init__()` method."
     ]
    },
    {
     "cell_type": "code",
     "collapsed": false,
     "input": [
      "class Python(Snake) :\n",
      "    \"\"\"\n",
      "    The Python class inherits from the Snake class and models a python.\n",
      "    It overrides the isVenomous() and description() methods provided by \n",
      "    the Snake class.\n",
      "    \"\"\"\n",
      "    def __init__(self, length) :\n",
      "        \"\"\"\n",
      "        Constructor of the Python class.\n",
      "        \"\"\"\n",
      "        \n",
      "        \"\"\"\n",
      "        Initialize the base class. \n",
      "        * Explicitly qualify the method call by prepending with \"Snake.\".\n",
      "        * A reference to the current class instance must be explicitly passed\n",
      "          as the first argument.\n",
      "        * No pythons are venomous so pass False as the third argument\n",
      "        \"\"\"\n",
      "        Snake.__init__(self, length, False)\n",
      "        # No member data to initialize\n",
      "    \n",
      "    # Override isVenomous to always return False.\n",
      "    def isVenomous(self) :\n",
      "        \"\"\"Always returns false. No pythons are venomous.\"\"\"\n",
      "        return False\n",
      "    \n",
      "    # Override description to print a more appropriate message.\n",
      "    def description(self) :\n",
      "        \"\"\"Prints a textual description of the python.\"\"\"\n",
      "        print \"I am a \" + str(self.getLengthInMetres()) + \"m long python. My hiss is worse than my bite!\"\n",
      "\n",
      "help(Python)"
     ],
     "language": "python",
     "metadata": {},
     "outputs": []
    },
    {
     "cell_type": "code",
     "collapsed": false,
     "input": [
      "pythonInstance = Python(2.0)"
     ],
     "language": "python",
     "metadata": {},
     "outputs": []
    },
    {
     "cell_type": "code",
     "collapsed": false,
     "input": [
      "pythonInstance.description()"
     ],
     "language": "python",
     "metadata": {},
     "outputs": []
    }
   ],
   "metadata": {}
  }
 ]
}